{
  "nbformat": 4,
  "nbformat_minor": 0,
  "metadata": {
    "colab": {
      "provenance": []
    },
    "kernelspec": {
      "name": "python3",
      "display_name": "Python 3"
    },
    "language_info": {
      "name": "python"
    }
  },
  "cells": [
    {
      "cell_type": "markdown",
      "source": [
        "##**Food Delivery Service in New Dehli Analysis**"
      ],
      "metadata": {
        "id": "aTAVnxukH7O9"
      }
    },
    {
      "cell_type": "markdown",
      "source": [
        "## Executive Summary\n",
        "\n",
        "This comprehensive analysis aimed to identify key correlations between various features to enhance the business model of our food sharing platform. Despite the constraints of a limited dataset, which presented challenges in drawing definitive conclusions, several significant insights emerged. The analysis encompassed data preparation, exploratory data analysis (EDA), hypothesis testing, and the formulation of strategic recommendations.\n",
        "\n",
        "## Dataset Limitations and Considerations\n",
        "\n",
        "It is imperative to acknowledge several limitations within the dataset that warrant consideration:\n",
        "\n",
        "1. Sample Size: The dataset's limited size of 1,000 records constrains the ability to draw broadly applicable conclusions.\n",
        "Additionaly, the dataset only covers one month of operation and thus offers a limited perspective on the app performance.\n",
        "\n",
        "2. Contextual Information: Critical contextual details are absent, including:\n",
        "   - The relationship between delivery fees and order values (additive or inclusive).\n",
        "   - The nature of processing fees and their application.\n",
        "   - The source of discounts (restaurant-offered or platform-provided).\n",
        "\n",
        "3. Assumptions: For the purposes of this analysis, certain assumptions were made. In a real-world scenario, comprehensive contextual information would be essential for accurate interpretation and decision-making.\n",
        "\n",
        "## Methodology\n",
        "\n",
        "### Data Preparation\n",
        "To facilitate a more nuanced analysis, we augmented the dataset with additional columns, including:\n",
        "- Discount conversion metrics\n",
        "- Revenue calculations\n",
        "- Delivery time analytics\n",
        "- Temporal segmentation (hour and time period)\n",
        "\n",
        "### Exploratory Data Analysis (EDA)\n",
        "Our EDA revealed several noteworthy patterns:\n",
        "- Inconsistent order and revenue fluctuations across the dataset\n",
        "- Anomalous revenue-order relationships on specific days, potentially indicative of data randomness\n",
        "- Chargebacks and refunds impacting approximately one-third of transactions, albeit representing only 10% of the total value of affected orders\n",
        "\n",
        "## Key Findings\n",
        "\n",
        "1. Customer Acquisition and Retention: The platform exhibits a suboptimal customer-to-restaurant ratio of 1.6, signaling potential issues in customer acquisition or retention strategies.\n",
        "\n",
        "2. Order Frequency: Even top-performing restaurants demonstrate low order volumes, with a maximum of 6 orders, indicating significant room for improvement in customer engagement.\n",
        "\n",
        "3. Delivery Efficiency: Average delivery times approaching 2 hours may be a critical factor deterring repeat orders and overall customer satisfaction.\n",
        "\n",
        "4. Discount Efficacy: While the '15% New User' discount showed statistical significance in impacting revenue, further analysis revealed that it underperforms compared to other discount offers and non-discounted orders in terms of average order value.\n",
        "\n",
        "## Statistical Analysis\n",
        "\n",
        "We conducted ANOVA tests to determine significant differences in how various features affect total order value and commission received. The results indicated that the 'Discounts and Offers' feature, specifically the '15% New User' discount, has a statistically significant impact on revenue. However, this statistical significance does not translate into tangible revenue growth for participating restaurants.\n",
        "\n",
        "## Recommendations\n",
        "\n",
        "1. Refund Process Optimization: Conduct a thorough review of the chargeback and refund processes to mitigate their impact on overall revenue.\n",
        "\n",
        "2. Delivery Time Improvement: Implement strategies to reduce delivery times, thereby enhancing customer satisfaction and encouraging repeat orders.\n",
        "\n",
        "3. Customer Base Expansion: Develop and execute targeted strategies to increase both the customer base and order frequency.\n",
        "\n",
        "4. Data Collection Enhancement: Prioritize the collection of more comprehensive and representative data to enable more robust analysis and insights.\n",
        "\n",
        "5. Advanced Statistical Analysis: Consider conducting further statistical analyses with an expanded dataset to identify significant factors affecting platform performance.\n",
        "\n",
        "## Conclusion\n",
        "\n",
        "While this analysis provides valuable insights into our food sharing platform's current performance, the limited dataset constrains our ability to draw definitive conclusions. Moving forward, it is imperative to address the identified concerns, particularly regarding customer acquisition, order frequency, and delivery efficiency. Additionally, a more comprehensive data collection strategy will be crucial for conducting more in-depth analyses and deriving actionable insights to drive the platform's growth and success."
      ],
      "metadata": {
        "id": "cA2I674SpfhF"
      }
    },
    {
      "cell_type": "code",
      "execution_count": null,
      "metadata": {
        "id": "Ws-8dSjPYTGi"
      },
      "outputs": [],
      "source": [
        "import pandas as pd\n",
        "import numpy as np\n",
        "import matplotlib.pyplot as plt\n",
        "import scipy.stats as stats\n",
        "from statsmodels.stats.multicomp import pairwise_tukeyhsd\n",
        "import seaborn as sns"
      ]
    },
    {
      "cell_type": "code",
      "source": [
        "df = pd.read_csv('food_orders_new_delhi.csv')"
      ],
      "metadata": {
        "id": "FUASyN5LYfFs"
      },
      "execution_count": null,
      "outputs": []
    },
    {
      "cell_type": "markdown",
      "source": [
        "# Check for Data Integrity"
      ],
      "metadata": {
        "id": "gCqKTQFWIkm3"
      }
    },
    {
      "cell_type": "code",
      "source": [
        "df.info()"
      ],
      "metadata": {
        "colab": {
          "base_uri": "https://localhost:8080/"
        },
        "id": "0CzkPXcuYyrI",
        "outputId": "ee5e115d-86f1-414d-fcc9-5856ed5d40d3"
      },
      "execution_count": null,
      "outputs": [
        {
          "output_type": "stream",
          "name": "stdout",
          "text": [
            "<class 'pandas.core.frame.DataFrame'>\n",
            "RangeIndex: 1000 entries, 0 to 999\n",
            "Data columns (total 12 columns):\n",
            " #   Column                  Non-Null Count  Dtype \n",
            "---  ------                  --------------  ----- \n",
            " 0   Order ID                1000 non-null   int64 \n",
            " 1   Customer ID             1000 non-null   object\n",
            " 2   Restaurant ID           1000 non-null   object\n",
            " 3   Order Date and Time     1000 non-null   object\n",
            " 4   Delivery Date and Time  1000 non-null   object\n",
            " 5   Order Value             1000 non-null   int64 \n",
            " 6   Delivery Fee            1000 non-null   int64 \n",
            " 7   Payment Method          1000 non-null   object\n",
            " 8   Discounts and Offers    815 non-null    object\n",
            " 9   Commission Fee          1000 non-null   int64 \n",
            " 10  Payment Processing Fee  1000 non-null   int64 \n",
            " 11  Refunds/Chargebacks     1000 non-null   int64 \n",
            "dtypes: int64(6), object(6)\n",
            "memory usage: 93.9+ KB\n"
          ]
        }
      ]
    },
    {
      "cell_type": "code",
      "source": [
        "# No null value except for 'discount', which is normal as some order may not benefit of discount\n",
        "\n",
        "df.isnull().sum()"
      ],
      "metadata": {
        "colab": {
          "base_uri": "https://localhost:8080/",
          "height": 460
        },
        "id": "WYa0gnoSY8yH",
        "outputId": "38770edc-fe93-450b-b5dd-8bd609514b11"
      },
      "execution_count": null,
      "outputs": [
        {
          "output_type": "execute_result",
          "data": {
            "text/plain": [
              "Order ID                    0\n",
              "Customer ID                 0\n",
              "Restaurant ID               0\n",
              "Order Date and Time         0\n",
              "Delivery Date and Time      0\n",
              "Order Value                 0\n",
              "Delivery Fee                0\n",
              "Payment Method              0\n",
              "Discounts and Offers      185\n",
              "Commission Fee              0\n",
              "Payment Processing Fee      0\n",
              "Refunds/Chargebacks         0\n",
              "dtype: int64"
            ],
            "text/html": [
              "<div>\n",
              "<style scoped>\n",
              "    .dataframe tbody tr th:only-of-type {\n",
              "        vertical-align: middle;\n",
              "    }\n",
              "\n",
              "    .dataframe tbody tr th {\n",
              "        vertical-align: top;\n",
              "    }\n",
              "\n",
              "    .dataframe thead th {\n",
              "        text-align: right;\n",
              "    }\n",
              "</style>\n",
              "<table border=\"1\" class=\"dataframe\">\n",
              "  <thead>\n",
              "    <tr style=\"text-align: right;\">\n",
              "      <th></th>\n",
              "      <th>0</th>\n",
              "    </tr>\n",
              "  </thead>\n",
              "  <tbody>\n",
              "    <tr>\n",
              "      <th>Order ID</th>\n",
              "      <td>0</td>\n",
              "    </tr>\n",
              "    <tr>\n",
              "      <th>Customer ID</th>\n",
              "      <td>0</td>\n",
              "    </tr>\n",
              "    <tr>\n",
              "      <th>Restaurant ID</th>\n",
              "      <td>0</td>\n",
              "    </tr>\n",
              "    <tr>\n",
              "      <th>Order Date and Time</th>\n",
              "      <td>0</td>\n",
              "    </tr>\n",
              "    <tr>\n",
              "      <th>Delivery Date and Time</th>\n",
              "      <td>0</td>\n",
              "    </tr>\n",
              "    <tr>\n",
              "      <th>Order Value</th>\n",
              "      <td>0</td>\n",
              "    </tr>\n",
              "    <tr>\n",
              "      <th>Delivery Fee</th>\n",
              "      <td>0</td>\n",
              "    </tr>\n",
              "    <tr>\n",
              "      <th>Payment Method</th>\n",
              "      <td>0</td>\n",
              "    </tr>\n",
              "    <tr>\n",
              "      <th>Discounts and Offers</th>\n",
              "      <td>185</td>\n",
              "    </tr>\n",
              "    <tr>\n",
              "      <th>Commission Fee</th>\n",
              "      <td>0</td>\n",
              "    </tr>\n",
              "    <tr>\n",
              "      <th>Payment Processing Fee</th>\n",
              "      <td>0</td>\n",
              "    </tr>\n",
              "    <tr>\n",
              "      <th>Refunds/Chargebacks</th>\n",
              "      <td>0</td>\n",
              "    </tr>\n",
              "  </tbody>\n",
              "</table>\n",
              "</div><br><label><b>dtype:</b> int64</label>"
            ]
          },
          "metadata": {},
          "execution_count": 8
        }
      ]
    },
    {
      "cell_type": "code",
      "source": [
        "df.describe()"
      ],
      "metadata": {
        "colab": {
          "base_uri": "https://localhost:8080/",
          "height": 300
        },
        "id": "_b0OIjn5ZKsH",
        "outputId": "f2624fca-b350-42be-99da-946d6585cdad"
      },
      "execution_count": null,
      "outputs": [
        {
          "output_type": "execute_result",
          "data": {
            "text/plain": [
              "          Order ID  Order Value  Delivery Fee  Commission Fee  \\\n",
              "count  1000.000000  1000.000000   1000.000000      1000.00000   \n",
              "mean    500.500000  1053.969000     28.620000       126.99000   \n",
              "std     288.819436   530.975339     16.958278        43.06405   \n",
              "min       1.000000   104.000000      0.000000        50.00000   \n",
              "25%     250.750000   597.750000     20.000000        90.00000   \n",
              "50%     500.500000  1038.500000     30.000000       127.00000   \n",
              "75%     750.250000  1494.000000     40.000000       164.00000   \n",
              "max    1000.000000  1995.000000     50.000000       200.00000   \n",
              "\n",
              "       Payment Processing Fee  Refunds/Chargebacks  \n",
              "count             1000.000000          1000.000000  \n",
              "mean                29.832000            28.300000  \n",
              "std                 11.627165            49.614228  \n",
              "min                 10.000000             0.000000  \n",
              "25%                 20.000000             0.000000  \n",
              "50%                 30.000000             0.000000  \n",
              "75%                 40.000000            50.000000  \n",
              "max                 50.000000           150.000000  "
            ],
            "text/html": [
              "\n",
              "  <div id=\"df-e155ed0a-cc61-448e-b501-9c4c70080302\" class=\"colab-df-container\">\n",
              "    <div>\n",
              "<style scoped>\n",
              "    .dataframe tbody tr th:only-of-type {\n",
              "        vertical-align: middle;\n",
              "    }\n",
              "\n",
              "    .dataframe tbody tr th {\n",
              "        vertical-align: top;\n",
              "    }\n",
              "\n",
              "    .dataframe thead th {\n",
              "        text-align: right;\n",
              "    }\n",
              "</style>\n",
              "<table border=\"1\" class=\"dataframe\">\n",
              "  <thead>\n",
              "    <tr style=\"text-align: right;\">\n",
              "      <th></th>\n",
              "      <th>Order ID</th>\n",
              "      <th>Order Value</th>\n",
              "      <th>Delivery Fee</th>\n",
              "      <th>Commission Fee</th>\n",
              "      <th>Payment Processing Fee</th>\n",
              "      <th>Refunds/Chargebacks</th>\n",
              "    </tr>\n",
              "  </thead>\n",
              "  <tbody>\n",
              "    <tr>\n",
              "      <th>count</th>\n",
              "      <td>1000.000000</td>\n",
              "      <td>1000.000000</td>\n",
              "      <td>1000.000000</td>\n",
              "      <td>1000.00000</td>\n",
              "      <td>1000.000000</td>\n",
              "      <td>1000.000000</td>\n",
              "    </tr>\n",
              "    <tr>\n",
              "      <th>mean</th>\n",
              "      <td>500.500000</td>\n",
              "      <td>1053.969000</td>\n",
              "      <td>28.620000</td>\n",
              "      <td>126.99000</td>\n",
              "      <td>29.832000</td>\n",
              "      <td>28.300000</td>\n",
              "    </tr>\n",
              "    <tr>\n",
              "      <th>std</th>\n",
              "      <td>288.819436</td>\n",
              "      <td>530.975339</td>\n",
              "      <td>16.958278</td>\n",
              "      <td>43.06405</td>\n",
              "      <td>11.627165</td>\n",
              "      <td>49.614228</td>\n",
              "    </tr>\n",
              "    <tr>\n",
              "      <th>min</th>\n",
              "      <td>1.000000</td>\n",
              "      <td>104.000000</td>\n",
              "      <td>0.000000</td>\n",
              "      <td>50.00000</td>\n",
              "      <td>10.000000</td>\n",
              "      <td>0.000000</td>\n",
              "    </tr>\n",
              "    <tr>\n",
              "      <th>25%</th>\n",
              "      <td>250.750000</td>\n",
              "      <td>597.750000</td>\n",
              "      <td>20.000000</td>\n",
              "      <td>90.00000</td>\n",
              "      <td>20.000000</td>\n",
              "      <td>0.000000</td>\n",
              "    </tr>\n",
              "    <tr>\n",
              "      <th>50%</th>\n",
              "      <td>500.500000</td>\n",
              "      <td>1038.500000</td>\n",
              "      <td>30.000000</td>\n",
              "      <td>127.00000</td>\n",
              "      <td>30.000000</td>\n",
              "      <td>0.000000</td>\n",
              "    </tr>\n",
              "    <tr>\n",
              "      <th>75%</th>\n",
              "      <td>750.250000</td>\n",
              "      <td>1494.000000</td>\n",
              "      <td>40.000000</td>\n",
              "      <td>164.00000</td>\n",
              "      <td>40.000000</td>\n",
              "      <td>50.000000</td>\n",
              "    </tr>\n",
              "    <tr>\n",
              "      <th>max</th>\n",
              "      <td>1000.000000</td>\n",
              "      <td>1995.000000</td>\n",
              "      <td>50.000000</td>\n",
              "      <td>200.00000</td>\n",
              "      <td>50.000000</td>\n",
              "      <td>150.000000</td>\n",
              "    </tr>\n",
              "  </tbody>\n",
              "</table>\n",
              "</div>\n",
              "    <div class=\"colab-df-buttons\">\n",
              "\n",
              "  <div class=\"colab-df-container\">\n",
              "    <button class=\"colab-df-convert\" onclick=\"convertToInteractive('df-e155ed0a-cc61-448e-b501-9c4c70080302')\"\n",
              "            title=\"Convert this dataframe to an interactive table.\"\n",
              "            style=\"display:none;\">\n",
              "\n",
              "  <svg xmlns=\"http://www.w3.org/2000/svg\" height=\"24px\" viewBox=\"0 -960 960 960\">\n",
              "    <path d=\"M120-120v-720h720v720H120Zm60-500h600v-160H180v160Zm220 220h160v-160H400v160Zm0 220h160v-160H400v160ZM180-400h160v-160H180v160Zm440 0h160v-160H620v160ZM180-180h160v-160H180v160Zm440 0h160v-160H620v160Z\"/>\n",
              "  </svg>\n",
              "    </button>\n",
              "\n",
              "  <style>\n",
              "    .colab-df-container {\n",
              "      display:flex;\n",
              "      gap: 12px;\n",
              "    }\n",
              "\n",
              "    .colab-df-convert {\n",
              "      background-color: #E8F0FE;\n",
              "      border: none;\n",
              "      border-radius: 50%;\n",
              "      cursor: pointer;\n",
              "      display: none;\n",
              "      fill: #1967D2;\n",
              "      height: 32px;\n",
              "      padding: 0 0 0 0;\n",
              "      width: 32px;\n",
              "    }\n",
              "\n",
              "    .colab-df-convert:hover {\n",
              "      background-color: #E2EBFA;\n",
              "      box-shadow: 0px 1px 2px rgba(60, 64, 67, 0.3), 0px 1px 3px 1px rgba(60, 64, 67, 0.15);\n",
              "      fill: #174EA6;\n",
              "    }\n",
              "\n",
              "    .colab-df-buttons div {\n",
              "      margin-bottom: 4px;\n",
              "    }\n",
              "\n",
              "    [theme=dark] .colab-df-convert {\n",
              "      background-color: #3B4455;\n",
              "      fill: #D2E3FC;\n",
              "    }\n",
              "\n",
              "    [theme=dark] .colab-df-convert:hover {\n",
              "      background-color: #434B5C;\n",
              "      box-shadow: 0px 1px 3px 1px rgba(0, 0, 0, 0.15);\n",
              "      filter: drop-shadow(0px 1px 2px rgba(0, 0, 0, 0.3));\n",
              "      fill: #FFFFFF;\n",
              "    }\n",
              "  </style>\n",
              "\n",
              "    <script>\n",
              "      const buttonEl =\n",
              "        document.querySelector('#df-e155ed0a-cc61-448e-b501-9c4c70080302 button.colab-df-convert');\n",
              "      buttonEl.style.display =\n",
              "        google.colab.kernel.accessAllowed ? 'block' : 'none';\n",
              "\n",
              "      async function convertToInteractive(key) {\n",
              "        const element = document.querySelector('#df-e155ed0a-cc61-448e-b501-9c4c70080302');\n",
              "        const dataTable =\n",
              "          await google.colab.kernel.invokeFunction('convertToInteractive',\n",
              "                                                    [key], {});\n",
              "        if (!dataTable) return;\n",
              "\n",
              "        const docLinkHtml = 'Like what you see? Visit the ' +\n",
              "          '<a target=\"_blank\" href=https://colab.research.google.com/notebooks/data_table.ipynb>data table notebook</a>'\n",
              "          + ' to learn more about interactive tables.';\n",
              "        element.innerHTML = '';\n",
              "        dataTable['output_type'] = 'display_data';\n",
              "        await google.colab.output.renderOutput(dataTable, element);\n",
              "        const docLink = document.createElement('div');\n",
              "        docLink.innerHTML = docLinkHtml;\n",
              "        element.appendChild(docLink);\n",
              "      }\n",
              "    </script>\n",
              "  </div>\n",
              "\n",
              "\n",
              "<div id=\"df-54a39c75-db7a-43e8-ac45-7f10ca48a1ca\">\n",
              "  <button class=\"colab-df-quickchart\" onclick=\"quickchart('df-54a39c75-db7a-43e8-ac45-7f10ca48a1ca')\"\n",
              "            title=\"Suggest charts\"\n",
              "            style=\"display:none;\">\n",
              "\n",
              "<svg xmlns=\"http://www.w3.org/2000/svg\" height=\"24px\"viewBox=\"0 0 24 24\"\n",
              "     width=\"24px\">\n",
              "    <g>\n",
              "        <path d=\"M19 3H5c-1.1 0-2 .9-2 2v14c0 1.1.9 2 2 2h14c1.1 0 2-.9 2-2V5c0-1.1-.9-2-2-2zM9 17H7v-7h2v7zm4 0h-2V7h2v10zm4 0h-2v-4h2v4z\"/>\n",
              "    </g>\n",
              "</svg>\n",
              "  </button>\n",
              "\n",
              "<style>\n",
              "  .colab-df-quickchart {\n",
              "      --bg-color: #E8F0FE;\n",
              "      --fill-color: #1967D2;\n",
              "      --hover-bg-color: #E2EBFA;\n",
              "      --hover-fill-color: #174EA6;\n",
              "      --disabled-fill-color: #AAA;\n",
              "      --disabled-bg-color: #DDD;\n",
              "  }\n",
              "\n",
              "  [theme=dark] .colab-df-quickchart {\n",
              "      --bg-color: #3B4455;\n",
              "      --fill-color: #D2E3FC;\n",
              "      --hover-bg-color: #434B5C;\n",
              "      --hover-fill-color: #FFFFFF;\n",
              "      --disabled-bg-color: #3B4455;\n",
              "      --disabled-fill-color: #666;\n",
              "  }\n",
              "\n",
              "  .colab-df-quickchart {\n",
              "    background-color: var(--bg-color);\n",
              "    border: none;\n",
              "    border-radius: 50%;\n",
              "    cursor: pointer;\n",
              "    display: none;\n",
              "    fill: var(--fill-color);\n",
              "    height: 32px;\n",
              "    padding: 0;\n",
              "    width: 32px;\n",
              "  }\n",
              "\n",
              "  .colab-df-quickchart:hover {\n",
              "    background-color: var(--hover-bg-color);\n",
              "    box-shadow: 0 1px 2px rgba(60, 64, 67, 0.3), 0 1px 3px 1px rgba(60, 64, 67, 0.15);\n",
              "    fill: var(--button-hover-fill-color);\n",
              "  }\n",
              "\n",
              "  .colab-df-quickchart-complete:disabled,\n",
              "  .colab-df-quickchart-complete:disabled:hover {\n",
              "    background-color: var(--disabled-bg-color);\n",
              "    fill: var(--disabled-fill-color);\n",
              "    box-shadow: none;\n",
              "  }\n",
              "\n",
              "  .colab-df-spinner {\n",
              "    border: 2px solid var(--fill-color);\n",
              "    border-color: transparent;\n",
              "    border-bottom-color: var(--fill-color);\n",
              "    animation:\n",
              "      spin 1s steps(1) infinite;\n",
              "  }\n",
              "\n",
              "  @keyframes spin {\n",
              "    0% {\n",
              "      border-color: transparent;\n",
              "      border-bottom-color: var(--fill-color);\n",
              "      border-left-color: var(--fill-color);\n",
              "    }\n",
              "    20% {\n",
              "      border-color: transparent;\n",
              "      border-left-color: var(--fill-color);\n",
              "      border-top-color: var(--fill-color);\n",
              "    }\n",
              "    30% {\n",
              "      border-color: transparent;\n",
              "      border-left-color: var(--fill-color);\n",
              "      border-top-color: var(--fill-color);\n",
              "      border-right-color: var(--fill-color);\n",
              "    }\n",
              "    40% {\n",
              "      border-color: transparent;\n",
              "      border-right-color: var(--fill-color);\n",
              "      border-top-color: var(--fill-color);\n",
              "    }\n",
              "    60% {\n",
              "      border-color: transparent;\n",
              "      border-right-color: var(--fill-color);\n",
              "    }\n",
              "    80% {\n",
              "      border-color: transparent;\n",
              "      border-right-color: var(--fill-color);\n",
              "      border-bottom-color: var(--fill-color);\n",
              "    }\n",
              "    90% {\n",
              "      border-color: transparent;\n",
              "      border-bottom-color: var(--fill-color);\n",
              "    }\n",
              "  }\n",
              "</style>\n",
              "\n",
              "  <script>\n",
              "    async function quickchart(key) {\n",
              "      const quickchartButtonEl =\n",
              "        document.querySelector('#' + key + ' button');\n",
              "      quickchartButtonEl.disabled = true;  // To prevent multiple clicks.\n",
              "      quickchartButtonEl.classList.add('colab-df-spinner');\n",
              "      try {\n",
              "        const charts = await google.colab.kernel.invokeFunction(\n",
              "            'suggestCharts', [key], {});\n",
              "      } catch (error) {\n",
              "        console.error('Error during call to suggestCharts:', error);\n",
              "      }\n",
              "      quickchartButtonEl.classList.remove('colab-df-spinner');\n",
              "      quickchartButtonEl.classList.add('colab-df-quickchart-complete');\n",
              "    }\n",
              "    (() => {\n",
              "      let quickchartButtonEl =\n",
              "        document.querySelector('#df-54a39c75-db7a-43e8-ac45-7f10ca48a1ca button');\n",
              "      quickchartButtonEl.style.display =\n",
              "        google.colab.kernel.accessAllowed ? 'block' : 'none';\n",
              "    })();\n",
              "  </script>\n",
              "</div>\n",
              "\n",
              "    </div>\n",
              "  </div>\n"
            ],
            "application/vnd.google.colaboratory.intrinsic+json": {
              "type": "dataframe",
              "summary": "{\n  \"name\": \"df\",\n  \"rows\": 8,\n  \"fields\": [\n    {\n      \"column\": \"Order ID\",\n      \"properties\": {\n        \"dtype\": \"number\",\n        \"std\": 360.1000917722167,\n        \"min\": 1.0,\n        \"max\": 1000.0,\n        \"num_unique_values\": 6,\n        \"samples\": [\n          1000.0,\n          500.5,\n          750.25\n        ],\n        \"semantic_type\": \"\",\n        \"description\": \"\"\n      }\n    },\n    {\n      \"column\": \"Order Value\",\n      \"properties\": {\n        \"dtype\": \"number\",\n        \"std\": 587.822328592323,\n        \"min\": 104.0,\n        \"max\": 1995.0,\n        \"num_unique_values\": 8,\n        \"samples\": [\n          1053.969,\n          1038.5,\n          1000.0\n        ],\n        \"semantic_type\": \"\",\n        \"description\": \"\"\n      }\n    },\n    {\n      \"column\": \"Delivery Fee\",\n      \"properties\": {\n        \"dtype\": \"number\",\n        \"std\": 344.5094247121322,\n        \"min\": 0.0,\n        \"max\": 1000.0,\n        \"num_unique_values\": 8,\n        \"samples\": [\n          28.62,\n          30.0,\n          1000.0\n        ],\n        \"semantic_type\": \"\",\n        \"description\": \"\"\n      }\n    },\n    {\n      \"column\": \"Commission Fee\",\n      \"properties\": {\n        \"dtype\": \"number\",\n        \"std\": 317.6097135709636,\n        \"min\": 43.06405011622119,\n        \"max\": 1000.0,\n        \"num_unique_values\": 8,\n        \"samples\": [\n          126.99,\n          127.0,\n          1000.0\n        ],\n        \"semantic_type\": \"\",\n        \"description\": \"\"\n      }\n    },\n    {\n      \"column\": \"Payment Processing Fee\",\n      \"properties\": {\n        \"dtype\": \"number\",\n        \"std\": 344.15077083099266,\n        \"min\": 10.0,\n        \"max\": 1000.0,\n        \"num_unique_values\": 8,\n        \"samples\": [\n          29.832,\n          30.0,\n          1000.0\n        ],\n        \"semantic_type\": \"\",\n        \"description\": \"\"\n      }\n    },\n    {\n      \"column\": \"Refunds/Chargebacks\",\n      \"properties\": {\n        \"dtype\": \"number\",\n        \"std\": 343.1220867608838,\n        \"min\": 0.0,\n        \"max\": 1000.0,\n        \"num_unique_values\": 6,\n        \"samples\": [\n          1000.0,\n          28.3,\n          150.0\n        ],\n        \"semantic_type\": \"\",\n        \"description\": \"\"\n      }\n    }\n  ]\n}"
            }
          },
          "metadata": {},
          "execution_count": 9
        }
      ]
    },
    {
      "cell_type": "code",
      "source": [
        "df['Discounts and Offers'].value_counts()"
      ],
      "metadata": {
        "colab": {
          "base_uri": "https://localhost:8080/",
          "height": 241
        },
        "id": "KwqP9GU6ZXJZ",
        "outputId": "e3393d35-8201-4e31-de90-a35caf7a596a"
      },
      "execution_count": null,
      "outputs": [
        {
          "output_type": "execute_result",
          "data": {
            "text/plain": [
              "Discounts and Offers\n",
              "10%             233\n",
              "50 off Promo    201\n",
              "15% New User    198\n",
              "5% on App       183\n",
              "Name: count, dtype: int64"
            ],
            "text/html": [
              "<div>\n",
              "<style scoped>\n",
              "    .dataframe tbody tr th:only-of-type {\n",
              "        vertical-align: middle;\n",
              "    }\n",
              "\n",
              "    .dataframe tbody tr th {\n",
              "        vertical-align: top;\n",
              "    }\n",
              "\n",
              "    .dataframe thead th {\n",
              "        text-align: right;\n",
              "    }\n",
              "</style>\n",
              "<table border=\"1\" class=\"dataframe\">\n",
              "  <thead>\n",
              "    <tr style=\"text-align: right;\">\n",
              "      <th></th>\n",
              "      <th>count</th>\n",
              "    </tr>\n",
              "    <tr>\n",
              "      <th>Discounts and Offers</th>\n",
              "      <th></th>\n",
              "    </tr>\n",
              "  </thead>\n",
              "  <tbody>\n",
              "    <tr>\n",
              "      <th>10%</th>\n",
              "      <td>233</td>\n",
              "    </tr>\n",
              "    <tr>\n",
              "      <th>50 off Promo</th>\n",
              "      <td>201</td>\n",
              "    </tr>\n",
              "    <tr>\n",
              "      <th>15% New User</th>\n",
              "      <td>198</td>\n",
              "    </tr>\n",
              "    <tr>\n",
              "      <th>5% on App</th>\n",
              "      <td>183</td>\n",
              "    </tr>\n",
              "  </tbody>\n",
              "</table>\n",
              "</div><br><label><b>dtype:</b> int64</label>"
            ]
          },
          "metadata": {},
          "execution_count": 10
        }
      ]
    },
    {
      "cell_type": "markdown",
      "source": [
        "The dataset is clean overall."
      ],
      "metadata": {
        "id": "qGfO43dTOCDY"
      }
    },
    {
      "cell_type": "markdown",
      "source": [
        "# Feature engineering\n",
        "Adding features:\n",
        "- Discounts Perc - Converts 'Discounts and Offers' into percentage values\n",
        "- Discounts Substract - Converts 'Discounts and Offers' into fixed numeric values\n",
        "- Revenue - Calculate Revenue for restaurants\n",
        "- Delivery Time - Calculate delivery time per order\n",
        "- Time Bins - Segment delivery times in time bins"
      ],
      "metadata": {
        "id": "1KYO_EFyHMSA"
      }
    },
    {
      "cell_type": "code",
      "source": [
        "# Adding discount percentage for further calculation\n",
        "df.loc[df['Discounts and Offers']=='10%', 'Discounts Perc'] = 10\n",
        "df.loc[df['Discounts and Offers']=='50 off Promo', 'Discounts Perc'] = 0\n",
        "df.loc[df['Discounts and Offers']=='15% New User', 'Discounts Perc'] = 15\n",
        "df.loc[df['Discounts and Offers']=='5% on App', 'Discounts Perc'] = 5\n",
        "df.loc[df['Discounts and Offers'].isnull(), 'Discounts Perc'] = 0\n",
        "df.loc[df['Discounts and Offers']=='50 off Promo', 'Discounts Substract'] = 50\n",
        "df.loc[df['Discounts Substract'].isnull(), 'Discounts Substract'] = 0\n",
        "\n",
        "# Adding a 'No Discount' category for 'Discounts and Offers'\n",
        "df.loc[df['Discounts and Offers'].isnull(), 'Discounts and Offers'] = 'No Discount'\n",
        "\n",
        "# Calculating revenue\n",
        "df['Revenue'] = (df['Order Value'] + df['Delivery Fee'] - df['Commission Fee'] + df['Payment Processing Fee'] - df['Refunds/Chargebacks']) * (1 - (df['Discounts Perc'] / 100)) - df['Discounts Substract']\n",
        "\n",
        "\n",
        "# Converting time-linked columns to datetime type\n",
        "df['Delivery Date and Time'] = pd.to_datetime(df['Delivery Date and Time'])\n",
        "df['Order Date and Time'] = pd.to_datetime(df['Order Date and Time'])\n",
        "\n",
        "\n",
        "# Creating 'Delivery Time' column in minutes\n",
        "df['Delivery Time'] = (df['Delivery Date and Time'] - df['Order Date and Time']).dt.total_seconds() / 60\n",
        "\n",
        "\n",
        "# Creating Time Bins:\n",
        "# 30 < x < 50\n",
        "# 50 < x < 70\n",
        "# 70 < x < 90\n",
        "# 90 < x < 110\n",
        "# x > 110\n",
        "df.loc[(df['Delivery Time'] <= 50), 'Time Bins'] = '30 < x <= 50'\n",
        "df.loc[(df['Delivery Time'] > 50) & (df['Delivery Time'] <= 70), 'Time Bins'] = '50 < x <= 70'\n",
        "df.loc[(df['Delivery Time'] > 70) & (df['Delivery Time'] <= 90), 'Time Bins'] = '70 < x <= 90'\n",
        "df.loc[(df['Delivery Time'] > 90) & (df['Delivery Time'] <= 110), 'Time Bins'] = '90 < x <= 110'\n",
        "df.loc[(df['Delivery Time'] > 110), 'Time Bins'] = 'x > 110'"
      ],
      "metadata": {
        "id": "KizgOVq5aPGV"
      },
      "execution_count": null,
      "outputs": []
    },
    {
      "cell_type": "markdown",
      "source": [
        "# EDA"
      ],
      "metadata": {
        "id": "0ZwyXJtBIf8i"
      }
    },
    {
      "cell_type": "code",
      "source": [
        "# Count of order by day\n",
        "order_per_day = df.groupby(df['Order Date and Time'].dt.date).size().reset_index().rename(columns={0:'count'})\n",
        "\n",
        "# revenue per day\n",
        "revenue_per_day = df.groupby(df['Order Date and Time'].dt.date)['Revenue'].mean().reset_index()\n",
        "\n",
        "# We observe no consistency throughout the month the data set covers.\n",
        "# Number of orders and revenue per day fluctuate in unexpected and erratic manner."
      ],
      "metadata": {
        "id": "Tn-4osyEnCJt"
      },
      "execution_count": null,
      "outputs": []
    },
    {
      "cell_type": "code",
      "source": [
        "plt.xticks(rotation=90)\n",
        "sns.lineplot(data=order_per_day, x='Order Date and Time', y='count')"
      ],
      "metadata": {
        "colab": {
          "base_uri": "https://localhost:8080/",
          "height": 533
        },
        "id": "hlqkDDRkpuzB",
        "outputId": "be5c11f6-6fb3-4896-af98-215ea5996b29"
      },
      "execution_count": null,
      "outputs": [
        {
          "output_type": "execute_result",
          "data": {
            "text/plain": [
              "<Axes: xlabel='Order Date and Time', ylabel='count'>"
            ]
          },
          "metadata": {},
          "execution_count": 11
        },
        {
          "output_type": "display_data",
          "data": {
            "text/plain": [
              "<Figure size 640x480 with 1 Axes>"
            ],
            "image/png": "[encoded data removed]"
          },
          "metadata": {}
        }
      ]
    },
    {
      "cell_type": "code",
      "source": [
        "plt.xticks(rotation=90)\n",
        "sns.lineplot(data=revenue_per_day, x='Order Date and Time', y='Revenue')"
      ],
      "metadata": {
        "colab": {
          "base_uri": "https://localhost:8080/",
          "height": 533
        },
        "id": "uzA59a4OrbRG",
        "outputId": "f87663a6-8c78-4d30-9dc1-2e171f57683d"
      },
      "execution_count": null,
      "outputs": [
        {
          "output_type": "execute_result",
          "data": {
            "text/plain": [
              "<Axes: xlabel='Order Date and Time', ylabel='Revenue'>"
            ]
          },
          "metadata": {},
          "execution_count": 9
        },
        {
          "output_type": "display_data",
          "data": {
            "text/plain": [
              "<Figure size 640x480 with 1 Axes>"
            ],
            "image/png": "[encoded data removed]"
          },
          "metadata": {}
        }
      ]
    },
    {
      "cell_type": "code",
      "source": [
        "# Revenue per day of the week\n",
        "revenue_per_weekday = df.groupby(df['Order Date and Time'].dt.weekday)['Revenue'].mean().reset_index()\n",
        "\n",
        "#Number of orders per day of the week\n",
        "order_per_weekday = df.groupby(df['Order Date and Time'].dt.weekday).size().reset_index().rename(columns={0:'count'})\n",
        "\n",
        "# While we cannot observe a strict negative correlation between the revenue and the number of orders per day,\n",
        "# we notice peculiar occurences that see on days 2, 3, 4 and 6, a high revenue corresponding to a low number of orders.\n",
        "# We can't exactly explain this pattern, but it has us suspecting the data set could have been generated randomly."
      ],
      "metadata": {
        "id": "1nDy5jeHNMve"
      },
      "execution_count": null,
      "outputs": []
    },
    {
      "cell_type": "code",
      "source": [
        "sns.lineplot(data=revenue_per_weekday, x='Order Date and Time', y='Revenue')"
      ],
      "metadata": {
        "id": "WuTC4TltNpkT",
        "colab": {
          "base_uri": "https://localhost:8080/",
          "height": 467
        },
        "outputId": "9030afe9-40c8-4a2f-c2e9-e83936a8d681"
      },
      "execution_count": null,
      "outputs": [
        {
          "output_type": "execute_result",
          "data": {
            "text/plain": [
              "<Axes: xlabel='Order Date and Time', ylabel='Revenue'>"
            ]
          },
          "metadata": {},
          "execution_count": 16
        },
        {
          "output_type": "display_data",
          "data": {
            "text/plain": [
              "<Figure size 640x480 with 1 Axes>"
            ],
            "image/png": "[encoded data removed]"
          },
          "metadata": {}
        }
      ]
    },
    {
      "cell_type": "code",
      "source": [
        "sns.lineplot(data=order_per_weekday, x='Order Date and Time', y='count')"
      ],
      "metadata": {
        "colab": {
          "base_uri": "https://localhost:8080/",
          "height": 467
        },
        "id": "R8gj7SUOL52w",
        "outputId": "392eec1c-5a70-4dd7-da9e-675a5c6abb5e"
      },
      "execution_count": null,
      "outputs": [
        {
          "output_type": "execute_result",
          "data": {
            "text/plain": [
              "<Axes: xlabel='Order Date and Time', ylabel='count'>"
            ]
          },
          "metadata": {},
          "execution_count": 17
        },
        {
          "output_type": "display_data",
          "data": {
            "text/plain": [
              "<Figure size 640x480 with 1 Axes>"
            ],
            "image/png": "[encoded data removed]"
          },
          "metadata": {}
        }
      ]
    },
    {
      "cell_type": "code",
      "source": [
        "# Number of order per hour\n",
        "order_per_hour = df.groupby(df['Order Date and Time'].dt.hour).size().reset_index().rename(columns={0:'count'})\n",
        "\n",
        "# revenue per hour\n",
        "revenue_per_hour = df.groupby(df['Order Date and Time'].dt.hour)['Revenue'].mean().reset_index()\n",
        "\n",
        "# Similar observation as for the count of order and revenue per day.\n",
        "# Despite descent number of orders around 4:00, 16:00 and 24:00, we record dramatic drop in revenue."
      ],
      "metadata": {
        "id": "ZmgzouUGqk55"
      },
      "execution_count": null,
      "outputs": []
    },
    {
      "cell_type": "code",
      "source": [
        "sns.lineplot(data=order_per_hour, x='Order Date and Time', y='count')"
      ],
      "metadata": {
        "colab": {
          "base_uri": "https://localhost:8080/",
          "height": 467
        },
        "id": "uENXuLU0sbVR",
        "outputId": "987d4c5d-7c8a-4c00-ce0c-db21bb96f4b6"
      },
      "execution_count": null,
      "outputs": [
        {
          "output_type": "execute_result",
          "data": {
            "text/plain": [
              "<Axes: xlabel='Order Date and Time', ylabel='count'>"
            ]
          },
          "metadata": {},
          "execution_count": 19
        },
        {
          "output_type": "display_data",
          "data": {
            "text/plain": [
              "<Figure size 640x480 with 1 Axes>"
            ],
            "image/png": "[encoded data removed]"
          },
          "metadata": {}
        }
      ]
    },
    {
      "cell_type": "code",
      "source": [
        "# Distribution seem a bit all over the place, with an interesting aspect that time around 12:00 record the fewer orders"
      ],
      "metadata": {
        "id": "FU2-Y0ydwbBk"
      },
      "execution_count": null,
      "outputs": []
    },
    {
      "cell_type": "code",
      "source": [
        "sns.lineplot(data=revenue_per_hour, x='Order Date and Time', y='Revenue')"
      ],
      "metadata": {
        "colab": {
          "base_uri": "https://localhost:8080/",
          "height": 467
        },
        "id": "F0bp6GnVsvHt",
        "outputId": "61071cae-1dd6-4286-eabf-f15e942521dd"
      },
      "execution_count": null,
      "outputs": [
        {
          "output_type": "execute_result",
          "data": {
            "text/plain": [
              "<Axes: xlabel='Order Date and Time', ylabel='Revenue'>"
            ]
          },
          "metadata": {},
          "execution_count": 21
        },
        {
          "output_type": "display_data",
          "data": {
            "text/plain": [
              "<Figure size 640x480 with 1 Axes>"
            ],
            "image/png": "[encoded data removed]"
          },
          "metadata": {}
        }
      ]
    },
    {
      "cell_type": "code",
      "source": [
        "# Revenue loss for restaurants\n",
        "print('Revenue total: ')\n",
        "print(df['Commission Fee'].sum())\n",
        "print('Revenue loss: ')\n",
        "print(df.loc[df['Commission Fee'] < 0, 'Commission Fee'].sum())\n",
        "\n",
        "# Losses seem to be marginal - could investigate the user who provoke these loss, see if they abuse of a system?"
      ],
      "metadata": {
        "colab": {
          "base_uri": "https://localhost:8080/"
        },
        "id": "SD40LxuotRwS",
        "outputId": "8c18213f-5b9f-4388-f636-e1a30a8f89ac"
      },
      "execution_count": null,
      "outputs": [
        {
          "output_type": "stream",
          "name": "stdout",
          "text": [
            "Revenue total: \n",
            "126990\n",
            "Revenue loss: \n",
            "0\n"
          ]
        }
      ]
    },
    {
      "cell_type": "code",
      "source": [
        "print('Order Revenue:')\n",
        "print(df['Order Value'].sum())\n",
        "print('Percentage of order with refunds:')\n",
        "print((df['Refunds/Chargebacks']!= 0).sum() / 1000 * 100)\n",
        "print('Percentage of refunds affected orders:')\n",
        "print(df.loc[df['Refunds/Chargebacks']!= 0, 'Order Value'].sum() / df.loc[df['Refunds/Chargebacks']!= 0, 'Refunds/Chargebacks'].sum())\n",
        "\n",
        "# Approximately 1/3 of orders benefit of refunds/chargebacks.\n",
        "# Although, this only account for approx. 10 % of the total order revenue.\n",
        "# Here again, a strange pattern/politic, as one would expect of a refund to cover the full price of an order."
      ],
      "metadata": {
        "colab": {
          "base_uri": "https://localhost:8080/"
        },
        "id": "kShVwG3PdDHX",
        "outputId": "c0f26244-4a9b-4501-d1a6-56c1a4fe59b3"
      },
      "execution_count": null,
      "outputs": [
        {
          "output_type": "stream",
          "name": "stdout",
          "text": [
            "Order Revenue:\n",
            "1053969\n",
            "Percentage of order with refunds:\n",
            "28.499999999999996\n",
            "Percentage of refunds affected orders:\n",
            "10.342332155477031\n"
          ]
        }
      ]
    },
    {
      "cell_type": "code",
      "source": [
        "# ARPU\n",
        "\n",
        "(df.groupby('Customer ID')['Revenue'].mean()).mean()"
      ],
      "metadata": {
        "colab": {
          "base_uri": "https://localhost:8080/"
        },
        "id": "u954IxkrumiH",
        "outputId": "b7038010-553f-4f6a-b809-33e85e4722cd"
      },
      "execution_count": null,
      "outputs": [
        {
          "output_type": "execute_result",
          "data": {
            "text/plain": [
              "883.5443329813446"
            ]
          },
          "metadata": {},
          "execution_count": 24
        }
      ]
    },
    {
      "cell_type": "code",
      "source": [
        "# Retention\n",
        "\n",
        "(df['Customer ID'].value_counts()).mean()\n",
        "\n",
        "# Fairly bad retention as it seem customer do not order, in average, more than once"
      ],
      "metadata": {
        "colab": {
          "base_uri": "https://localhost:8080/"
        },
        "id": "69gNDwpc-hGT",
        "outputId": "6a6e452e-d991-4803-e4c7-79c9019554a9"
      },
      "execution_count": null,
      "outputs": [
        {
          "output_type": "execute_result",
          "data": {
            "text/plain": [
              "1.0559662090813093"
            ]
          },
          "metadata": {},
          "execution_count": 25
        }
      ]
    },
    {
      "cell_type": "code",
      "source": [
        "# Odd number of restaurant / customer\n",
        "# Most popular restaurant = 6 orders\n",
        "# Address fullfilment time\n",
        "# Address discount use\n",
        "# Address strange distribution of order per day\n",
        "# Distribution seem a bit all over the place, with an interesting aspect that time around 12:00 record the fewer orders\n",
        "\n",
        "(df['Restaurant ID'].value_counts()).mean()"
      ],
      "metadata": {
        "colab": {
          "base_uri": "https://localhost:8080/"
        },
        "id": "4TzHNIp8-3aG",
        "outputId": "c5b288af-8493-47a9-b941-c35ced2467a5"
      },
      "execution_count": null,
      "outputs": [
        {
          "output_type": "execute_result",
          "data": {
            "text/plain": [
              "1.6103059581320451"
            ]
          },
          "metadata": {},
          "execution_count": 26
        }
      ]
    },
    {
      "cell_type": "code",
      "source": [
        "print('Ratio of #Customer / #Restaurant:')\n",
        "print(df['Customer ID'].nunique() / df['Restaurant ID'].nunique())\n",
        "print('Restaurant with top orders:')\n",
        "print(df.groupby('Restaurant ID')['Order ID'].count().sort_values(ascending=False).max())\n",
        "\n",
        "\n",
        "# Strange Ratio of #Customer / #Restaurant\n",
        "# Restaurant with top #order, only count 6 orders, which is low and concerning"
      ],
      "metadata": {
        "colab": {
          "base_uri": "https://localhost:8080/"
        },
        "id": "7xllzc92fOm_",
        "outputId": "67249a6d-25bf-49a3-ed46-f79860f76ab2"
      },
      "execution_count": null,
      "outputs": [
        {
          "output_type": "stream",
          "name": "stdout",
          "text": [
            "Ratio of #Customer / #Restaurant:\n",
            "1.5249597423510468\n",
            "Restaurant with top orders:\n",
            "6\n"
          ]
        }
      ]
    },
    {
      "cell_type": "code",
      "source": [
        "# Observation on delivery time\n",
        "\n",
        "Time_bins = df.groupby('Time Bins')['Order ID'].count().reset_index()\n",
        "\n",
        "plt.xticks(rotation=90)\n",
        "sns.barplot(data=Time_bins, x='Time Bins' , y='Order ID')\n",
        "\n",
        "print(df.groupby('Time Bins')['Revenue'].sum().reset_index())\n",
        "print(df.groupby('Time Bins')['Commission Fee'].sum().reset_index())\n",
        "\n",
        "# Overall delivery time seems to excessive and should be addressed in order to ensure smooth operation.\n",
        "# This could be an element that affects our customers not ordering more than once at a restaurant."
      ],
      "metadata": {
        "colab": {
          "base_uri": "https://localhost:8080/",
          "height": 754
        },
        "id": "W5MojeNGmDuG",
        "outputId": "2c43de34-685f-448f-fbcc-7ffced064ab6"
      },
      "execution_count": null,
      "outputs": [
        {
          "output_type": "stream",
          "name": "stdout",
          "text": [
            "       Time Bins   Revenue\n",
            "0   30 < x <= 50  232709.7\n",
            "1   50 < x <= 70  182616.7\n",
            "2   70 < x <= 90  202077.0\n",
            "3  90 < x <= 110  198335.5\n",
            "4        x > 110   73058.9\n",
            "       Time Bins  Commission Fee\n",
            "0   30 < x <= 50           32168\n",
            "1   50 < x <= 70           26240\n",
            "2   70 < x <= 90           28870\n",
            "3  90 < x <= 110           28186\n",
            "4        x > 110           11526\n"
          ]
        },
        {
          "output_type": "display_data",
          "data": {
            "text/plain": [
              "<Figure size 640x480 with 1 Axes>"
            ],
            "image/png": "[encoded data removed]"
          },
          "metadata": {}
        }
      ]
    },
    {
      "cell_type": "code",
      "source": [
        "# Distribution of payment method and revenue per payment method seem to be quite even\n",
        "\n",
        "payment_distrib = df.groupby('Payment Method').agg({'Revenue' : ['mean', 'count']}).reset_index()\n",
        "payment_distrib['ratio'] = payment_distrib[('Revenue', 'mean')] / payment_distrib[('Revenue', 'count')]\n",
        "payment_distrib\n",
        "\n",
        "# Not much conclusion to draw from these observation, as distribution looks similar"
      ],
      "metadata": {
        "id": "HN66AjiSvIx6",
        "colab": {
          "base_uri": "https://localhost:8080/",
          "height": 175
        },
        "outputId": "0d6bbbd3-e6aa-4382-e1a9-9633dc168b77"
      },
      "execution_count": null,
      "outputs": [
        {
          "output_type": "execute_result",
          "data": {
            "text/plain": [
              "     Payment Method     Revenue           ratio\n",
              "                           mean count          \n",
              "0  Cash on Delivery  883.000700   357  2.473391\n",
              "1       Credit Card  904.240653   337  2.683207\n",
              "2    Digital Wallet  878.553758   306  2.871091"
            ],
            "text/html": [
              "\n",
              "  <div id=\"df-ad0c702f-4064-435a-bd7e-bc7cc3aea544\" class=\"colab-df-container\">\n",
              "    <div>\n",
              "<style scoped>\n",
              "    .dataframe tbody tr th:only-of-type {\n",
              "        vertical-align: middle;\n",
              "    }\n",
              "\n",
              "    .dataframe tbody tr th {\n",
              "        vertical-align: top;\n",
              "    }\n",
              "\n",
              "    .dataframe thead tr th {\n",
              "        text-align: left;\n",
              "    }\n",
              "</style>\n",
              "<table border=\"1\" class=\"dataframe\">\n",
              "  <thead>\n",
              "    <tr>\n",
              "      <th></th>\n",
              "      <th>Payment Method</th>\n",
              "      <th colspan=\"2\" halign=\"left\">Revenue</th>\n",
              "      <th>ratio</th>\n",
              "    </tr>\n",
              "    <tr>\n",
              "      <th></th>\n",
              "      <th></th>\n",
              "      <th>mean</th>\n",
              "      <th>count</th>\n",
              "      <th></th>\n",
              "    </tr>\n",
              "  </thead>\n",
              "  <tbody>\n",
              "    <tr>\n",
              "      <th>0</th>\n",
              "      <td>Cash on Delivery</td>\n",
              "      <td>883.000700</td>\n",
              "      <td>357</td>\n",
              "      <td>2.473391</td>\n",
              "    </tr>\n",
              "    <tr>\n",
              "      <th>1</th>\n",
              "      <td>Credit Card</td>\n",
              "      <td>904.240653</td>\n",
              "      <td>337</td>\n",
              "      <td>2.683207</td>\n",
              "    </tr>\n",
              "    <tr>\n",
              "      <th>2</th>\n",
              "      <td>Digital Wallet</td>\n",
              "      <td>878.553758</td>\n",
              "      <td>306</td>\n",
              "      <td>2.871091</td>\n",
              "    </tr>\n",
              "  </tbody>\n",
              "</table>\n",
              "</div>\n",
              "    <div class=\"colab-df-buttons\">\n",
              "\n",
              "  <div class=\"colab-df-container\">\n",
              "    <button class=\"colab-df-convert\" onclick=\"convertToInteractive('df-ad0c702f-4064-435a-bd7e-bc7cc3aea544')\"\n",
              "            title=\"Convert this dataframe to an interactive table.\"\n",
              "            style=\"display:none;\">\n",
              "\n",
              "  <svg xmlns=\"http://www.w3.org/2000/svg\" height=\"24px\" viewBox=\"0 -960 960 960\">\n",
              "    <path d=\"M120-120v-720h720v720H120Zm60-500h600v-160H180v160Zm220 220h160v-160H400v160Zm0 220h160v-160H400v160ZM180-400h160v-160H180v160Zm440 0h160v-160H620v160ZM180-180h160v-160H180v160Zm440 0h160v-160H620v160Z\"/>\n",
              "  </svg>\n",
              "    </button>\n",
              "\n",
              "  <style>\n",
              "    .colab-df-container {\n",
              "      display:flex;\n",
              "      gap: 12px;\n",
              "    }\n",
              "\n",
              "    .colab-df-convert {\n",
              "      background-color: #E8F0FE;\n",
              "      border: none;\n",
              "      border-radius: 50%;\n",
              "      cursor: pointer;\n",
              "      display: none;\n",
              "      fill: #1967D2;\n",
              "      height: 32px;\n",
              "      padding: 0 0 0 0;\n",
              "      width: 32px;\n",
              "    }\n",
              "\n",
              "    .colab-df-convert:hover {\n",
              "      background-color: #E2EBFA;\n",
              "      box-shadow: 0px 1px 2px rgba(60, 64, 67, 0.3), 0px 1px 3px 1px rgba(60, 64, 67, 0.15);\n",
              "      fill: #174EA6;\n",
              "    }\n",
              "\n",
              "    .colab-df-buttons div {\n",
              "      margin-bottom: 4px;\n",
              "    }\n",
              "\n",
              "    [theme=dark] .colab-df-convert {\n",
              "      background-color: #3B4455;\n",
              "      fill: #D2E3FC;\n",
              "    }\n",
              "\n",
              "    [theme=dark] .colab-df-convert:hover {\n",
              "      background-color: #434B5C;\n",
              "      box-shadow: 0px 1px 3px 1px rgba(0, 0, 0, 0.15);\n",
              "      filter: drop-shadow(0px 1px 2px rgba(0, 0, 0, 0.3));\n",
              "      fill: #FFFFFF;\n",
              "    }\n",
              "  </style>\n",
              "\n",
              "    <script>\n",
              "      const buttonEl =\n",
              "        document.querySelector('#df-ad0c702f-4064-435a-bd7e-bc7cc3aea544 button.colab-df-convert');\n",
              "      buttonEl.style.display =\n",
              "        google.colab.kernel.accessAllowed ? 'block' : 'none';\n",
              "\n",
              "      async function convertToInteractive(key) {\n",
              "        const element = document.querySelector('#df-ad0c702f-4064-435a-bd7e-bc7cc3aea544');\n",
              "        const dataTable =\n",
              "          await google.colab.kernel.invokeFunction('convertToInteractive',\n",
              "                                                    [key], {});\n",
              "        if (!dataTable) return;\n",
              "\n",
              "        const docLinkHtml = 'Like what you see? Visit the ' +\n",
              "          '<a target=\"_blank\" href=https://colab.research.google.com/notebooks/data_table.ipynb>data table notebook</a>'\n",
              "          + ' to learn more about interactive tables.';\n",
              "        element.innerHTML = '';\n",
              "        dataTable['output_type'] = 'display_data';\n",
              "        await google.colab.output.renderOutput(dataTable, element);\n",
              "        const docLink = document.createElement('div');\n",
              "        docLink.innerHTML = docLinkHtml;\n",
              "        element.appendChild(docLink);\n",
              "      }\n",
              "    </script>\n",
              "  </div>\n",
              "\n",
              "\n",
              "<div id=\"df-a9c2f14f-7921-46e8-a1e4-6d5805cec5e0\">\n",
              "  <button class=\"colab-df-quickchart\" onclick=\"quickchart('df-a9c2f14f-7921-46e8-a1e4-6d5805cec5e0')\"\n",
              "            title=\"Suggest charts\"\n",
              "            style=\"display:none;\">\n",
              "\n",
              "<svg xmlns=\"http://www.w3.org/2000/svg\" height=\"24px\"viewBox=\"0 0 24 24\"\n",
              "     width=\"24px\">\n",
              "    <g>\n",
              "        <path d=\"M19 3H5c-1.1 0-2 .9-2 2v14c0 1.1.9 2 2 2h14c1.1 0 2-.9 2-2V5c0-1.1-.9-2-2-2zM9 17H7v-7h2v7zm4 0h-2V7h2v10zm4 0h-2v-4h2v4z\"/>\n",
              "    </g>\n",
              "</svg>\n",
              "  </button>\n",
              "\n",
              "<style>\n",
              "  .colab-df-quickchart {\n",
              "      --bg-color: #E8F0FE;\n",
              "      --fill-color: #1967D2;\n",
              "      --hover-bg-color: #E2EBFA;\n",
              "      --hover-fill-color: #174EA6;\n",
              "      --disabled-fill-color: #AAA;\n",
              "      --disabled-bg-color: #DDD;\n",
              "  }\n",
              "\n",
              "  [theme=dark] .colab-df-quickchart {\n",
              "      --bg-color: #3B4455;\n",
              "      --fill-color: #D2E3FC;\n",
              "      --hover-bg-color: #434B5C;\n",
              "      --hover-fill-color: #FFFFFF;\n",
              "      --disabled-bg-color: #3B4455;\n",
              "      --disabled-fill-color: #666;\n",
              "  }\n",
              "\n",
              "  .colab-df-quickchart {\n",
              "    background-color: var(--bg-color);\n",
              "    border: none;\n",
              "    border-radius: 50%;\n",
              "    cursor: pointer;\n",
              "    display: none;\n",
              "    fill: var(--fill-color);\n",
              "    height: 32px;\n",
              "    padding: 0;\n",
              "    width: 32px;\n",
              "  }\n",
              "\n",
              "  .colab-df-quickchart:hover {\n",
              "    background-color: var(--hover-bg-color);\n",
              "    box-shadow: 0 1px 2px rgba(60, 64, 67, 0.3), 0 1px 3px 1px rgba(60, 64, 67, 0.15);\n",
              "    fill: var(--button-hover-fill-color);\n",
              "  }\n",
              "\n",
              "  .colab-df-quickchart-complete:disabled,\n",
              "  .colab-df-quickchart-complete:disabled:hover {\n",
              "    background-color: var(--disabled-bg-color);\n",
              "    fill: var(--disabled-fill-color);\n",
              "    box-shadow: none;\n",
              "  }\n",
              "\n",
              "  .colab-df-spinner {\n",
              "    border: 2px solid var(--fill-color);\n",
              "    border-color: transparent;\n",
              "    border-bottom-color: var(--fill-color);\n",
              "    animation:\n",
              "      spin 1s steps(1) infinite;\n",
              "  }\n",
              "\n",
              "  @keyframes spin {\n",
              "    0% {\n",
              "      border-color: transparent;\n",
              "      border-bottom-color: var(--fill-color);\n",
              "      border-left-color: var(--fill-color);\n",
              "    }\n",
              "    20% {\n",
              "      border-color: transparent;\n",
              "      border-left-color: var(--fill-color);\n",
              "      border-top-color: var(--fill-color);\n",
              "    }\n",
              "    30% {\n",
              "      border-color: transparent;\n",
              "      border-left-color: var(--fill-color);\n",
              "      border-top-color: var(--fill-color);\n",
              "      border-right-color: var(--fill-color);\n",
              "    }\n",
              "    40% {\n",
              "      border-color: transparent;\n",
              "      border-right-color: var(--fill-color);\n",
              "      border-top-color: var(--fill-color);\n",
              "    }\n",
              "    60% {\n",
              "      border-color: transparent;\n",
              "      border-right-color: var(--fill-color);\n",
              "    }\n",
              "    80% {\n",
              "      border-color: transparent;\n",
              "      border-right-color: var(--fill-color);\n",
              "      border-bottom-color: var(--fill-color);\n",
              "    }\n",
              "    90% {\n",
              "      border-color: transparent;\n",
              "      border-bottom-color: var(--fill-color);\n",
              "    }\n",
              "  }\n",
              "</style>\n",
              "\n",
              "  <script>\n",
              "    async function quickchart(key) {\n",
              "      const quickchartButtonEl =\n",
              "        document.querySelector('#' + key + ' button');\n",
              "      quickchartButtonEl.disabled = true;  // To prevent multiple clicks.\n",
              "      quickchartButtonEl.classList.add('colab-df-spinner');\n",
              "      try {\n",
              "        const charts = await google.colab.kernel.invokeFunction(\n",
              "            'suggestCharts', [key], {});\n",
              "      } catch (error) {\n",
              "        console.error('Error during call to suggestCharts:', error);\n",
              "      }\n",
              "      quickchartButtonEl.classList.remove('colab-df-spinner');\n",
              "      quickchartButtonEl.classList.add('colab-df-quickchart-complete');\n",
              "    }\n",
              "    (() => {\n",
              "      let quickchartButtonEl =\n",
              "        document.querySelector('#df-a9c2f14f-7921-46e8-a1e4-6d5805cec5e0 button');\n",
              "      quickchartButtonEl.style.display =\n",
              "        google.colab.kernel.accessAllowed ? 'block' : 'none';\n",
              "    })();\n",
              "  </script>\n",
              "</div>\n",
              "\n",
              "  <div id=\"id_72daae86-f503-4303-8878-a0753b066e57\">\n",
              "    <style>\n",
              "      .colab-df-generate {\n",
              "        background-color: #E8F0FE;\n",
              "        border: none;\n",
              "        border-radius: 50%;\n",
              "        cursor: pointer;\n",
              "        display: none;\n",
              "        fill: #1967D2;\n",
              "        height: 32px;\n",
              "        padding: 0 0 0 0;\n",
              "        width: 32px;\n",
              "      }\n",
              "\n",
              "      .colab-df-generate:hover {\n",
              "        background-color: #E2EBFA;\n",
              "        box-shadow: 0px 1px 2px rgba(60, 64, 67, 0.3), 0px 1px 3px 1px rgba(60, 64, 67, 0.15);\n",
              "        fill: #174EA6;\n",
              "      }\n",
              "\n",
              "      [theme=dark] .colab-df-generate {\n",
              "        background-color: #3B4455;\n",
              "        fill: #D2E3FC;\n",
              "      }\n",
              "\n",
              "      [theme=dark] .colab-df-generate:hover {\n",
              "        background-color: #434B5C;\n",
              "        box-shadow: 0px 1px 3px 1px rgba(0, 0, 0, 0.15);\n",
              "        filter: drop-shadow(0px 1px 2px rgba(0, 0, 0, 0.3));\n",
              "        fill: #FFFFFF;\n",
              "      }\n",
              "    </style>\n",
              "    <button class=\"colab-df-generate\" onclick=\"generateWithVariable('payment_distrib')\"\n",
              "            title=\"Generate code using this dataframe.\"\n",
              "            style=\"display:none;\">\n",
              "\n",
              "  <svg xmlns=\"http://www.w3.org/2000/svg\" height=\"24px\"viewBox=\"0 0 24 24\"\n",
              "       width=\"24px\">\n",
              "    <path d=\"M7,19H8.4L18.45,9,17,7.55,7,17.6ZM5,21V16.75L18.45,3.32a2,2,0,0,1,2.83,0l1.4,1.43a1.91,1.91,0,0,1,.58,1.4,1.91,1.91,0,0,1-.58,1.4L9.25,21ZM18.45,9,17,7.55Zm-12,3A5.31,5.31,0,0,0,4.9,8.1,5.31,5.31,0,0,0,1,6.5,5.31,5.31,0,0,0,4.9,4.9,5.31,5.31,0,0,0,6.5,1,5.31,5.31,0,0,0,8.1,4.9,5.31,5.31,0,0,0,12,6.5,5.46,5.46,0,0,0,6.5,12Z\"/>\n",
              "  </svg>\n",
              "    </button>\n",
              "    <script>\n",
              "      (() => {\n",
              "      const buttonEl =\n",
              "        document.querySelector('#id_72daae86-f503-4303-8878-a0753b066e57 button.colab-df-generate');\n",
              "      buttonEl.style.display =\n",
              "        google.colab.kernel.accessAllowed ? 'block' : 'none';\n",
              "\n",
              "      buttonEl.onclick = () => {\n",
              "        google.colab.notebook.generateWithVariable('payment_distrib');\n",
              "      }\n",
              "      })();\n",
              "    </script>\n",
              "  </div>\n",
              "\n",
              "    </div>\n",
              "  </div>\n"
            ],
            "application/vnd.google.colaboratory.intrinsic+json": {
              "type": "dataframe",
              "variable_name": "payment_distrib",
              "summary": "{\n  \"name\": \"payment_distrib\",\n  \"rows\": 3,\n  \"fields\": [\n    {\n      \"column\": [\n        \"Payment Method\",\n        \"\"\n      ],\n      \"properties\": {\n        \"dtype\": \"string\",\n        \"num_unique_values\": 3,\n        \"samples\": [\n          \"Cash on Delivery\",\n          \"Credit Card\",\n          \"Digital Wallet\"\n        ],\n        \"semantic_type\": \"\",\n        \"description\": \"\"\n      }\n    },\n    {\n      \"column\": [\n        \"Revenue\",\n        \"mean\"\n      ],\n      \"properties\": {\n        \"dtype\": \"number\",\n        \"std\": 13.72787574424648,\n        \"min\": 878.5537581699347,\n        \"max\": 904.2406528189911,\n        \"num_unique_values\": 3,\n        \"samples\": [\n          883.000700280112,\n          904.2406528189911,\n          878.5537581699347\n        ],\n        \"semantic_type\": \"\",\n        \"description\": \"\"\n      }\n    },\n    {\n      \"column\": [\n        \"Revenue\",\n        \"count\"\n      ],\n      \"properties\": {\n        \"dtype\": \"number\",\n        \"std\": 25,\n        \"min\": 306,\n        \"max\": 357,\n        \"num_unique_values\": 3,\n        \"samples\": [\n          357,\n          337,\n          306\n        ],\n        \"semantic_type\": \"\",\n        \"description\": \"\"\n      }\n    },\n    {\n      \"column\": [\n        \"ratio\",\n        \"\"\n      ],\n      \"properties\": {\n        \"dtype\": \"number\",\n        \"std\": 0.19895045689518925,\n        \"min\": 2.473391317311238,\n        \"max\": 2.8710907129736425,\n        \"num_unique_values\": 3,\n        \"samples\": [\n          2.473391317311238,\n          2.683206684922822,\n          2.8710907129736425\n        ],\n        \"semantic_type\": \"\",\n        \"description\": \"\"\n      }\n    }\n  ]\n}"
            }
          },
          "metadata": {},
          "execution_count": 29
        }
      ]
    },
    {
      "cell_type": "code",
      "source": [
        "# Distribution of Discounts and Offers\n",
        "\n",
        "discount_distrib = df.groupby('Discounts and Offers', dropna=False).agg({'Revenue' : ['mean', 'count']}).reset_index()\n",
        "discount_distrib['ratio'] = discount_distrib[('Revenue', 'mean')] / discount_distrib[('Revenue', 'count')]\n",
        "discount_distrib\n",
        "\n",
        "# The 5% on app is our best ratio for bringing revenue\n",
        "# The 50 off promo is our least interesting in term of revenue - perhaps to consider this one only to attract user at certain time of the day?\n",
        "# This might explain the drop in revenue around midnight but not more than that..."
      ],
      "metadata": {
        "id": "4esgoBjIvzR3",
        "colab": {
          "base_uri": "https://localhost:8080/",
          "height": 238
        },
        "outputId": "071d2876-6c77-4814-bf08-4fe648da409b"
      },
      "execution_count": null,
      "outputs": [
        {
          "output_type": "execute_result",
          "data": {
            "text/plain": [
              "  Discounts and Offers     Revenue           ratio\n",
              "                              mean count          \n",
              "0                  10%  864.328326   233  3.709564\n",
              "1         15% New User  772.641414   198  3.902229\n",
              "2            5% on App  925.050820   183  5.054923\n",
              "3         50 off Promo  944.074627   201  4.696889\n",
              "4          No Discount  948.016216   185  5.124412"
            ],
            "text/html": [
              "\n",
              "  <div id=\"df-44cb67ec-38c1-48e8-8d73-d3bbc18497b4\" class=\"colab-df-container\">\n",
              "    <div>\n",
              "<style scoped>\n",
              "    .dataframe tbody tr th:only-of-type {\n",
              "        vertical-align: middle;\n",
              "    }\n",
              "\n",
              "    .dataframe tbody tr th {\n",
              "        vertical-align: top;\n",
              "    }\n",
              "\n",
              "    .dataframe thead tr th {\n",
              "        text-align: left;\n",
              "    }\n",
              "</style>\n",
              "<table border=\"1\" class=\"dataframe\">\n",
              "  <thead>\n",
              "    <tr>\n",
              "      <th></th>\n",
              "      <th>Discounts and Offers</th>\n",
              "      <th colspan=\"2\" halign=\"left\">Revenue</th>\n",
              "      <th>ratio</th>\n",
              "    </tr>\n",
              "    <tr>\n",
              "      <th></th>\n",
              "      <th></th>\n",
              "      <th>mean</th>\n",
              "      <th>count</th>\n",
              "      <th></th>\n",
              "    </tr>\n",
              "  </thead>\n",
              "  <tbody>\n",
              "    <tr>\n",
              "      <th>0</th>\n",
              "      <td>10%</td>\n",
              "      <td>864.328326</td>\n",
              "      <td>233</td>\n",
              "      <td>3.709564</td>\n",
              "    </tr>\n",
              "    <tr>\n",
              "      <th>1</th>\n",
              "      <td>15% New User</td>\n",
              "      <td>772.641414</td>\n",
              "      <td>198</td>\n",
              "      <td>3.902229</td>\n",
              "    </tr>\n",
              "    <tr>\n",
              "      <th>2</th>\n",
              "      <td>5% on App</td>\n",
              "      <td>925.050820</td>\n",
              "      <td>183</td>\n",
              "      <td>5.054923</td>\n",
              "    </tr>\n",
              "    <tr>\n",
              "      <th>3</th>\n",
              "      <td>50 off Promo</td>\n",
              "      <td>944.074627</td>\n",
              "      <td>201</td>\n",
              "      <td>4.696889</td>\n",
              "    </tr>\n",
              "    <tr>\n",
              "      <th>4</th>\n",
              "      <td>No Discount</td>\n",
              "      <td>948.016216</td>\n",
              "      <td>185</td>\n",
              "      <td>5.124412</td>\n",
              "    </tr>\n",
              "  </tbody>\n",
              "</table>\n",
              "</div>\n",
              "    <div class=\"colab-df-buttons\">\n",
              "\n",
              "  <div class=\"colab-df-container\">\n",
              "    <button class=\"colab-df-convert\" onclick=\"convertToInteractive('df-44cb67ec-38c1-48e8-8d73-d3bbc18497b4')\"\n",
              "            title=\"Convert this dataframe to an interactive table.\"\n",
              "            style=\"display:none;\">\n",
              "\n",
              "  <svg xmlns=\"http://www.w3.org/2000/svg\" height=\"24px\" viewBox=\"0 -960 960 960\">\n",
              "    <path d=\"M120-120v-720h720v720H120Zm60-500h600v-160H180v160Zm220 220h160v-160H400v160Zm0 220h160v-160H400v160ZM180-400h160v-160H180v160Zm440 0h160v-160H620v160ZM180-180h160v-160H180v160Zm440 0h160v-160H620v160Z\"/>\n",
              "  </svg>\n",
              "    </button>\n",
              "\n",
              "  <style>\n",
              "    .colab-df-container {\n",
              "      display:flex;\n",
              "      gap: 12px;\n",
              "    }\n",
              "\n",
              "    .colab-df-convert {\n",
              "      background-color: #E8F0FE;\n",
              "      border: none;\n",
              "      border-radius: 50%;\n",
              "      cursor: pointer;\n",
              "      display: none;\n",
              "      fill: #1967D2;\n",
              "      height: 32px;\n",
              "      padding: 0 0 0 0;\n",
              "      width: 32px;\n",
              "    }\n",
              "\n",
              "    .colab-df-convert:hover {\n",
              "      background-color: #E2EBFA;\n",
              "      box-shadow: 0px 1px 2px rgba(60, 64, 67, 0.3), 0px 1px 3px 1px rgba(60, 64, 67, 0.15);\n",
              "      fill: #174EA6;\n",
              "    }\n",
              "\n",
              "    .colab-df-buttons div {\n",
              "      margin-bottom: 4px;\n",
              "    }\n",
              "\n",
              "    [theme=dark] .colab-df-convert {\n",
              "      background-color: #3B4455;\n",
              "      fill: #D2E3FC;\n",
              "    }\n",
              "\n",
              "    [theme=dark] .colab-df-convert:hover {\n",
              "      background-color: #434B5C;\n",
              "      box-shadow: 0px 1px 3px 1px rgba(0, 0, 0, 0.15);\n",
              "      filter: drop-shadow(0px 1px 2px rgba(0, 0, 0, 0.3));\n",
              "      fill: #FFFFFF;\n",
              "    }\n",
              "  </style>\n",
              "\n",
              "    <script>\n",
              "      const buttonEl =\n",
              "        document.querySelector('#df-44cb67ec-38c1-48e8-8d73-d3bbc18497b4 button.colab-df-convert');\n",
              "      buttonEl.style.display =\n",
              "        google.colab.kernel.accessAllowed ? 'block' : 'none';\n",
              "\n",
              "      async function convertToInteractive(key) {\n",
              "        const element = document.querySelector('#df-44cb67ec-38c1-48e8-8d73-d3bbc18497b4');\n",
              "        const dataTable =\n",
              "          await google.colab.kernel.invokeFunction('convertToInteractive',\n",
              "                                                    [key], {});\n",
              "        if (!dataTable) return;\n",
              "\n",
              "        const docLinkHtml = 'Like what you see? Visit the ' +\n",
              "          '<a target=\"_blank\" href=https://colab.research.google.com/notebooks/data_table.ipynb>data table notebook</a>'\n",
              "          + ' to learn more about interactive tables.';\n",
              "        element.innerHTML = '';\n",
              "        dataTable['output_type'] = 'display_data';\n",
              "        await google.colab.output.renderOutput(dataTable, element);\n",
              "        const docLink = document.createElement('div');\n",
              "        docLink.innerHTML = docLinkHtml;\n",
              "        element.appendChild(docLink);\n",
              "      }\n",
              "    </script>\n",
              "  </div>\n",
              "\n",
              "\n",
              "<div id=\"df-be1d2417-ef46-4617-8acd-8449b01348db\">\n",
              "  <button class=\"colab-df-quickchart\" onclick=\"quickchart('df-be1d2417-ef46-4617-8acd-8449b01348db')\"\n",
              "            title=\"Suggest charts\"\n",
              "            style=\"display:none;\">\n",
              "\n",
              "<svg xmlns=\"http://www.w3.org/2000/svg\" height=\"24px\"viewBox=\"0 0 24 24\"\n",
              "     width=\"24px\">\n",
              "    <g>\n",
              "        <path d=\"M19 3H5c-1.1 0-2 .9-2 2v14c0 1.1.9 2 2 2h14c1.1 0 2-.9 2-2V5c0-1.1-.9-2-2-2zM9 17H7v-7h2v7zm4 0h-2V7h2v10zm4 0h-2v-4h2v4z\"/>\n",
              "    </g>\n",
              "</svg>\n",
              "  </button>\n",
              "\n",
              "<style>\n",
              "  .colab-df-quickchart {\n",
              "      --bg-color: #E8F0FE;\n",
              "      --fill-color: #1967D2;\n",
              "      --hover-bg-color: #E2EBFA;\n",
              "      --hover-fill-color: #174EA6;\n",
              "      --disabled-fill-color: #AAA;\n",
              "      --disabled-bg-color: #DDD;\n",
              "  }\n",
              "\n",
              "  [theme=dark] .colab-df-quickchart {\n",
              "      --bg-color: #3B4455;\n",
              "      --fill-color: #D2E3FC;\n",
              "      --hover-bg-color: #434B5C;\n",
              "      --hover-fill-color: #FFFFFF;\n",
              "      --disabled-bg-color: #3B4455;\n",
              "      --disabled-fill-color: #666;\n",
              "  }\n",
              "\n",
              "  .colab-df-quickchart {\n",
              "    background-color: var(--bg-color);\n",
              "    border: none;\n",
              "    border-radius: 50%;\n",
              "    cursor: pointer;\n",
              "    display: none;\n",
              "    fill: var(--fill-color);\n",
              "    height: 32px;\n",
              "    padding: 0;\n",
              "    width: 32px;\n",
              "  }\n",
              "\n",
              "  .colab-df-quickchart:hover {\n",
              "    background-color: var(--hover-bg-color);\n",
              "    box-shadow: 0 1px 2px rgba(60, 64, 67, 0.3), 0 1px 3px 1px rgba(60, 64, 67, 0.15);\n",
              "    fill: var(--button-hover-fill-color);\n",
              "  }\n",
              "\n",
              "  .colab-df-quickchart-complete:disabled,\n",
              "  .colab-df-quickchart-complete:disabled:hover {\n",
              "    background-color: var(--disabled-bg-color);\n",
              "    fill: var(--disabled-fill-color);\n",
              "    box-shadow: none;\n",
              "  }\n",
              "\n",
              "  .colab-df-spinner {\n",
              "    border: 2px solid var(--fill-color);\n",
              "    border-color: transparent;\n",
              "    border-bottom-color: var(--fill-color);\n",
              "    animation:\n",
              "      spin 1s steps(1) infinite;\n",
              "  }\n",
              "\n",
              "  @keyframes spin {\n",
              "    0% {\n",
              "      border-color: transparent;\n",
              "      border-bottom-color: var(--fill-color);\n",
              "      border-left-color: var(--fill-color);\n",
              "    }\n",
              "    20% {\n",
              "      border-color: transparent;\n",
              "      border-left-color: var(--fill-color);\n",
              "      border-top-color: var(--fill-color);\n",
              "    }\n",
              "    30% {\n",
              "      border-color: transparent;\n",
              "      border-left-color: var(--fill-color);\n",
              "      border-top-color: var(--fill-color);\n",
              "      border-right-color: var(--fill-color);\n",
              "    }\n",
              "    40% {\n",
              "      border-color: transparent;\n",
              "      border-right-color: var(--fill-color);\n",
              "      border-top-color: var(--fill-color);\n",
              "    }\n",
              "    60% {\n",
              "      border-color: transparent;\n",
              "      border-right-color: var(--fill-color);\n",
              "    }\n",
              "    80% {\n",
              "      border-color: transparent;\n",
              "      border-right-color: var(--fill-color);\n",
              "      border-bottom-color: var(--fill-color);\n",
              "    }\n",
              "    90% {\n",
              "      border-color: transparent;\n",
              "      border-bottom-color: var(--fill-color);\n",
              "    }\n",
              "  }\n",
              "</style>\n",
              "\n",
              "  <script>\n",
              "    async function quickchart(key) {\n",
              "      const quickchartButtonEl =\n",
              "        document.querySelector('#' + key + ' button');\n",
              "      quickchartButtonEl.disabled = true;  // To prevent multiple clicks.\n",
              "      quickchartButtonEl.classList.add('colab-df-spinner');\n",
              "      try {\n",
              "        const charts = await google.colab.kernel.invokeFunction(\n",
              "            'suggestCharts', [key], {});\n",
              "      } catch (error) {\n",
              "        console.error('Error during call to suggestCharts:', error);\n",
              "      }\n",
              "      quickchartButtonEl.classList.remove('colab-df-spinner');\n",
              "      quickchartButtonEl.classList.add('colab-df-quickchart-complete');\n",
              "    }\n",
              "    (() => {\n",
              "      let quickchartButtonEl =\n",
              "        document.querySelector('#df-be1d2417-ef46-4617-8acd-8449b01348db button');\n",
              "      quickchartButtonEl.style.display =\n",
              "        google.colab.kernel.accessAllowed ? 'block' : 'none';\n",
              "    })();\n",
              "  </script>\n",
              "</div>\n",
              "\n",
              "  <div id=\"id_74503c11-1f13-477f-b61c-46e603b34fb6\">\n",
              "    <style>\n",
              "      .colab-df-generate {\n",
              "        background-color: #E8F0FE;\n",
              "        border: none;\n",
              "        border-radius: 50%;\n",
              "        cursor: pointer;\n",
              "        display: none;\n",
              "        fill: #1967D2;\n",
              "        height: 32px;\n",
              "        padding: 0 0 0 0;\n",
              "        width: 32px;\n",
              "      }\n",
              "\n",
              "      .colab-df-generate:hover {\n",
              "        background-color: #E2EBFA;\n",
              "        box-shadow: 0px 1px 2px rgba(60, 64, 67, 0.3), 0px 1px 3px 1px rgba(60, 64, 67, 0.15);\n",
              "        fill: #174EA6;\n",
              "      }\n",
              "\n",
              "      [theme=dark] .colab-df-generate {\n",
              "        background-color: #3B4455;\n",
              "        fill: #D2E3FC;\n",
              "      }\n",
              "\n",
              "      [theme=dark] .colab-df-generate:hover {\n",
              "        background-color: #434B5C;\n",
              "        box-shadow: 0px 1px 3px 1px rgba(0, 0, 0, 0.15);\n",
              "        filter: drop-shadow(0px 1px 2px rgba(0, 0, 0, 0.3));\n",
              "        fill: #FFFFFF;\n",
              "      }\n",
              "    </style>\n",
              "    <button class=\"colab-df-generate\" onclick=\"generateWithVariable('discount_distrib')\"\n",
              "            title=\"Generate code using this dataframe.\"\n",
              "            style=\"display:none;\">\n",
              "\n",
              "  <svg xmlns=\"http://www.w3.org/2000/svg\" height=\"24px\"viewBox=\"0 0 24 24\"\n",
              "       width=\"24px\">\n",
              "    <path d=\"M7,19H8.4L18.45,9,17,7.55,7,17.6ZM5,21V16.75L18.45,3.32a2,2,0,0,1,2.83,0l1.4,1.43a1.91,1.91,0,0,1,.58,1.4,1.91,1.91,0,0,1-.58,1.4L9.25,21ZM18.45,9,17,7.55Zm-12,3A5.31,5.31,0,0,0,4.9,8.1,5.31,5.31,0,0,0,1,6.5,5.31,5.31,0,0,0,4.9,4.9,5.31,5.31,0,0,0,6.5,1,5.31,5.31,0,0,0,8.1,4.9,5.31,5.31,0,0,0,12,6.5,5.46,5.46,0,0,0,6.5,12Z\"/>\n",
              "  </svg>\n",
              "    </button>\n",
              "    <script>\n",
              "      (() => {\n",
              "      const buttonEl =\n",
              "        document.querySelector('#id_74503c11-1f13-477f-b61c-46e603b34fb6 button.colab-df-generate');\n",
              "      buttonEl.style.display =\n",
              "        google.colab.kernel.accessAllowed ? 'block' : 'none';\n",
              "\n",
              "      buttonEl.onclick = () => {\n",
              "        google.colab.notebook.generateWithVariable('discount_distrib');\n",
              "      }\n",
              "      })();\n",
              "    </script>\n",
              "  </div>\n",
              "\n",
              "    </div>\n",
              "  </div>\n"
            ],
            "application/vnd.google.colaboratory.intrinsic+json": {
              "type": "dataframe",
              "variable_name": "discount_distrib",
              "summary": "{\n  \"name\": \"discount_distrib\",\n  \"rows\": 5,\n  \"fields\": [\n    {\n      \"column\": [\n        \"Discounts and Offers\",\n        \"\"\n      ],\n      \"properties\": {\n        \"dtype\": \"string\",\n        \"num_unique_values\": 5,\n        \"samples\": [\n          \"15% New User\",\n          \"No Discount\",\n          \"5% on App\"\n        ],\n        \"semantic_type\": \"\",\n        \"description\": \"\"\n      }\n    },\n    {\n      \"column\": [\n        \"Revenue\",\n        \"mean\"\n      ],\n      \"properties\": {\n        \"dtype\": \"number\",\n        \"std\": 74.07293425871018,\n        \"min\": 772.6414141414141,\n        \"max\": 948.0162162162162,\n        \"num_unique_values\": 5,\n        \"samples\": [\n          772.6414141414141,\n          948.0162162162162,\n          925.0508196721311\n        ],\n        \"semantic_type\": \"\",\n        \"description\": \"\"\n      }\n    },\n    {\n      \"column\": [\n        \"Revenue\",\n        \"count\"\n      ],\n      \"properties\": {\n        \"dtype\": \"number\",\n        \"std\": 20,\n        \"min\": 183,\n        \"max\": 233,\n        \"num_unique_values\": 5,\n        \"samples\": [\n          198,\n          185,\n          183\n        ],\n        \"semantic_type\": \"\",\n        \"description\": \"\"\n      }\n    },\n    {\n      \"column\": [\n        \"ratio\",\n        \"\"\n      ],\n      \"properties\": {\n        \"dtype\": \"number\",\n        \"std\": 0.6554931604896559,\n        \"min\": 3.709563631674925,\n        \"max\": 5.124411979547115,\n        \"num_unique_values\": 5,\n        \"samples\": [\n          3.902229364350576,\n          5.124411979547115,\n          5.054922511869568\n        ],\n        \"semantic_type\": \"\",\n        \"description\": \"\"\n      }\n    }\n  ]\n}"
            }
          },
          "metadata": {},
          "execution_count": 30
        }
      ]
    },
    {
      "cell_type": "code",
      "source": [
        "# use of discount by time of the day\n",
        "\n",
        "df['Hour'] = df['Order Date and Time'].dt.hour\n",
        "discount_hour = df.groupby(df['Order Date and Time'].dt.hour)['Discounts and Offers'].value_counts().reset_index()\n",
        "plt.figure(figsize=(12, 6))\n",
        "sns.barplot(data=discount_hour, x='Order Date and Time', y='count', hue='Discounts and Offers')"
      ],
      "metadata": {
        "id": "MwGqLjT30D9w",
        "colab": {
          "base_uri": "https://localhost:8080/",
          "height": 560
        },
        "outputId": "92baf877-bd57-4ce3-bf70-562ef9dcc5bd"
      },
      "execution_count": null,
      "outputs": [
        {
          "output_type": "execute_result",
          "data": {
            "text/plain": [
              "<Axes: xlabel='Order Date and Time', ylabel='count'>"
            ]
          },
          "metadata": {},
          "execution_count": 31
        },
        {
          "output_type": "display_data",
          "data": {
            "text/plain": [
              "<Figure size 1200x600 with 1 Axes>"
            ],
            "image/png": "[encoded data removed]"
          },
          "metadata": {}
        }
      ]
    },
    {
      "cell_type": "code",
      "source": [
        "correlation = df[['Delivery Date and Time', 'Order Value', 'Discounts Perc', 'Discounts Substract', 'Hour']].corr()\n",
        "sns.heatmap(correlation, vmin=None, vmax=None, cmap=None, center=None, robust=False, annot=True, fmt='.2g', annot_kws=None, linewidths=0, linecolor='white', cbar=True, cbar_kws=None, cbar_ax=None, square=False, xticklabels='auto', yticklabels='auto')\n",
        "\n",
        "# From the barplot and the heatmap, we do not observe correlation or pattern between type of discounts and the time of the day"
      ],
      "metadata": {
        "colab": {
          "base_uri": "https://localhost:8080/",
          "height": 604
        },
        "id": "djGoSIRN0fvz",
        "outputId": "274eb4a4-9dff-4bf0-aa9e-f6dc2680fe9c"
      },
      "execution_count": null,
      "outputs": [
        {
          "output_type": "execute_result",
          "data": {
            "text/plain": [
              "<Axes: >"
            ]
          },
          "metadata": {},
          "execution_count": 32
        },
        {
          "output_type": "display_data",
          "data": {
            "text/plain": [
              "<Figure size 640x480 with 2 Axes>"
            ],
            "image/png": "[encoded data removed]"
          },
          "metadata": {}
        }
      ]
    },
    {
      "cell_type": "markdown",
      "source": [
        "# Hypothesis test on Pricing"
      ],
      "metadata": {
        "id": "BM9TL9aSIVLG"
      }
    },
    {
      "cell_type": "code",
      "source": [
        "# Checking if delivery fees have an incidence on restaurants' revenues\n",
        "# h0: There is no difference between the number of orders per delivery fee\n",
        "# h1: There at least one difference between the number of orders per delivery fee\n",
        "\n",
        "# Independent variable is 'Delivery Fee'\n",
        "# Dependent variable is the 'Number of Order'\n",
        "\n",
        "group_0 = df.loc[df['Delivery Fee']==0, 'Revenue'].to_list()\n",
        "group_20 = df.loc[df['Delivery Fee']==20, 'Revenue'].to_list()\n",
        "group_30 = df.loc[df['Delivery Fee']==30, 'Revenue'].to_list()\n",
        "group_40 = df.loc[df['Delivery Fee']==40, 'Revenue'].to_list()\n",
        "group_50 = df.loc[df['Delivery Fee']==50, 'Revenue'].to_list()"
      ],
      "metadata": {
        "id": "hXE22vmEoEYy"
      },
      "execution_count": null,
      "outputs": []
    },
    {
      "cell_type": "code",
      "source": [
        "# Results: We fail to reject our h0 hypothesis\n",
        "\n",
        "f_stat, p_value = stats.f_oneway(group_0, group_20, group_30, group_40, group_50)\n",
        "print(f_stat)\n",
        "print(p_value)"
      ],
      "metadata": {
        "colab": {
          "base_uri": "https://localhost:8080/"
        },
        "id": "RlgJNeznp9-p",
        "outputId": "0fa1da2e-0d6e-447b-d79d-21873bc516d9"
      },
      "execution_count": null,
      "outputs": [
        {
          "output_type": "stream",
          "name": "stdout",
          "text": [
            "2.261613676969076\n",
            "0.06073516322010978\n"
          ]
        }
      ]
    },
    {
      "cell_type": "code",
      "source": [
        "# Checking if delivery fees have an incidence on the app revenue\n",
        "# h0: There is no difference between the app revenue per delivery fee\n",
        "# h1: There at least one difference between the app revenue per delivery fee\n",
        "\n",
        "# Independent variable is 'Delivery Fee'\n",
        "# Dependent variable is the 'Comission Fee'\n",
        "\n",
        "group_cf0 = df.loc[df['Delivery Fee']==0, 'Commission Fee'].to_list()\n",
        "group_cf20 = df.loc[df['Delivery Fee']==20, 'Commission Fee'].to_list()\n",
        "group_cf30 = df.loc[df['Delivery Fee']==30, 'Commission Fee'].to_list()\n",
        "group_cf40 = df.loc[df['Delivery Fee']==40, 'Commission Fee'].to_list()\n",
        "group_cf50 = df.loc[df['Delivery Fee']==50, 'Commission Fee'].to_list()"
      ],
      "metadata": {
        "id": "VXiQQ3abverd"
      },
      "execution_count": null,
      "outputs": []
    },
    {
      "cell_type": "code",
      "source": [
        "# Results: We fail to reject our h0 hypothesis\n",
        "\n",
        "f_stat_cf, p_value_cf = stats.f_oneway(group_cf0, group_cf20, group_cf30, group_cf40, group_cf50)\n",
        "print(f_stat_cf)\n",
        "print(p_value_cf)"
      ],
      "metadata": {
        "colab": {
          "base_uri": "https://localhost:8080/"
        },
        "id": "cpWZtG2wwTuH",
        "outputId": "14d44511-b378-478f-c5ec-814125859974"
      },
      "execution_count": null,
      "outputs": [
        {
          "output_type": "stream",
          "name": "stdout",
          "text": [
            "1.0993494534438657\n",
            "0.3555321752309888\n"
          ]
        }
      ]
    },
    {
      "cell_type": "code",
      "source": [
        "# Checking if delivery time has an influence on restaurants' revenues\n",
        "# h0: There is no difference between the restaurants revenue per time bin\n",
        "# h1: There at least one difference between the restaurants revenue per time bin\n",
        "\n",
        "# Independent variable is 'Time Bins'\n",
        "# Dependent variable is the 'Revenue'\n",
        "\n",
        "group_tb50 = df.loc[df['Time Bins']=='30 < x <= 50', 'Revenue'].to_list()\n",
        "group_tb70 = df.loc[df['Time Bins']=='50 < x <= 70', 'Revenue'].to_list()\n",
        "group_tb90 = df.loc[df['Time Bins']=='70 < x <= 90', 'Revenue'].to_list()\n",
        "group_tb110 = df.loc[df['Time Bins']=='90 < x <= 110', 'Revenue'].to_list()\n",
        "group_tb120 = df.loc[df['Time Bins']=='x > 110', 'Revenue'].to_list()"
      ],
      "metadata": {
        "id": "ZczFgzWfprLu"
      },
      "execution_count": null,
      "outputs": []
    },
    {
      "cell_type": "code",
      "source": [
        "# Results: We fail to reject our h0 hypothesis\n",
        "\n",
        "f_stat_tb, p_value_tb = stats.f_oneway(group_tb50, group_tb70, group_tb90, group_tb110, group_tb120)\n",
        "print(f_stat_tb)\n",
        "print(p_value_tb)"
      ],
      "metadata": {
        "id": "h2_8Z4swUQlb",
        "outputId": "96aa9cdb-0170-43fe-b824-f22708be1766",
        "colab": {
          "base_uri": "https://localhost:8080/"
        }
      },
      "execution_count": null,
      "outputs": [
        {
          "output_type": "stream",
          "name": "stdout",
          "text": [
            "0.7746866124524632\n",
            "0.5417196351270166\n"
          ]
        }
      ]
    },
    {
      "cell_type": "code",
      "source": [
        "# Checking if delivery time has an influence on the app revenue\n",
        "# h0: There is no difference between the app revenue per time bin\n",
        "# h1: There at least one difference between the app revenue per time bin\n",
        "\n",
        "# Independent variable is 'Time Bins'\n",
        "# Dependent variable is the 'Comission Fee'\n",
        "\n",
        "group_tb_cf50 = df.loc[df['Time Bins']=='30 < x <= 50', 'Commission Fee'].to_list()\n",
        "group_tb_cf70 = df.loc[df['Time Bins']=='50 < x <= 70', 'Commission Fee'].to_list()\n",
        "group_tb_cf90 = df.loc[df['Time Bins']=='70 < x <= 90', 'Commission Fee'].to_list()\n",
        "group_tb_cf110 = df.loc[df['Time Bins']=='90 < x <= 110', 'Commission Fee'].to_list()\n",
        "group_tb_cf120 = df.loc[df['Time Bins']=='x > 110', 'Commission Fee'].to_list()"
      ],
      "metadata": {
        "id": "Sv4Q-EW5WnaO"
      },
      "execution_count": null,
      "outputs": []
    },
    {
      "cell_type": "code",
      "source": [
        "# Results: We fail to reject our h0 hypothesis\n",
        "\n",
        "f_stat_tb_cf, p_value_tb_cf = stats.f_oneway(group_tb_cf50, group_tb_cf70, group_tb_cf90, group_tb_cf110, group_tb_cf120)\n",
        "print(f_stat_tb_cf)\n",
        "print(p_value_tb_cf)"
      ],
      "metadata": {
        "id": "nPHkDwjPW8uK",
        "outputId": "9a701a62-30f0-4eb9-e33b-035c43569a00",
        "colab": {
          "base_uri": "https://localhost:8080/"
        }
      },
      "execution_count": null,
      "outputs": [
        {
          "output_type": "stream",
          "name": "stdout",
          "text": [
            "0.20738294214938047\n",
            "0.9343788873553196\n"
          ]
        }
      ]
    },
    {
      "cell_type": "code",
      "source": [
        "# Checking if discounts and offers have an influence on the app revenue\n",
        "# h0: There is no difference between the app revenue per discount\n",
        "# h1: There at least one difference between the app revenue per discount\n",
        "\n",
        "# Independent variable is 'Discounts and Offers'\n",
        "# Dependent variable is the 'Comission Fee'\n",
        "\n",
        "group_dis_cf5 = df.loc[df['Discounts and Offers']=='5% on App', 'Commission Fee'].to_list()\n",
        "group_dis_cf10 = df.loc[df['Discounts and Offers']=='10%', 'Commission Fee'].to_list()\n",
        "group_dis_cf15 = df.loc[df['Discounts and Offers']=='15% New User', 'Commission Fee'].to_list()\n",
        "group_dis_cf50 = df.loc[df['Discounts and Offers']=='50 off Promo', 'Commission Fee'].to_list()\n",
        "group_dis_cf0 = df.loc[df['Discounts and Offers'] == 'No Discount' , 'Commission Fee'].to_list()\n"
      ],
      "metadata": {
        "id": "Vaa1APXp23WL"
      },
      "execution_count": null,
      "outputs": []
    },
    {
      "cell_type": "code",
      "source": [
        "# Results: We fail to reject our h0 hypothesis\n",
        "\n",
        "f_stat_dis_cf, p_value_dis_cf = stats.f_oneway(group_dis_cf5, group_dis_cf10, group_dis_cf15, group_dis_cf50, group_dis_cf0)\n",
        "print(f_stat_dis_cf)\n",
        "print(p_value_dis_cf)"
      ],
      "metadata": {
        "colab": {
          "base_uri": "https://localhost:8080/"
        },
        "id": "cJjqSz1d35JK",
        "outputId": "967beb50-58c9-4e44-85d8-31153d158edc"
      },
      "execution_count": null,
      "outputs": [
        {
          "output_type": "stream",
          "name": "stdout",
          "text": [
            "0.46144227910131547\n",
            "0.7640727604664048\n"
          ]
        }
      ]
    },
    {
      "cell_type": "code",
      "source": [
        "# Checking if discounts and offers have an influence on restaurants' revenues\n",
        "# h0: There is no difference between the restaurants revenue per discount\n",
        "# h1: There at least one difference between the restaurants revenue per discount\n",
        "\n",
        "# Independent variable is 'Discounts and Offers'\n",
        "# Dependent variable is the 'Comission Fee'\n",
        "\n",
        "group_dis_r5 = df.loc[df['Discounts and Offers']=='5% on App', 'Revenue'].to_list()\n",
        "group_dis_r10 = df.loc[df['Discounts and Offers']=='10%', 'Revenue'].to_list()\n",
        "group_dis_r15 = df.loc[df['Discounts and Offers']=='15% New User', 'Revenue'].to_list()\n",
        "group_dis_r50 = df.loc[df['Discounts and Offers']=='50 off Promo', 'Revenue'].to_list()\n",
        "group_dis_r0 = df.loc[df['Discounts and Offers']=='No Discount' , 'Revenue'].to_list()"
      ],
      "metadata": {
        "id": "HUlV--ds684g"
      },
      "execution_count": null,
      "outputs": []
    },
    {
      "cell_type": "code",
      "source": [
        "# Results: We can retain our h1 hypothesis\n",
        "\n",
        "f_stat_dis_r, p_value_dis_r = stats.f_oneway(group_dis_r5, group_dis_r10, group_dis_r15, group_dis_r50, group_dis_r0)\n",
        "print(f_stat_dis_r)\n",
        "print(p_value_dis_r)"
      ],
      "metadata": {
        "colab": {
          "base_uri": "https://localhost:8080/"
        },
        "id": "rgysvJch4w4U",
        "outputId": "e31b630e-8c8d-4b54-fa26-ad7ad66b7b84"
      },
      "execution_count": null,
      "outputs": [
        {
          "output_type": "stream",
          "name": "stdout",
          "text": [
            "4.199670583103574\n",
            "0.0022349559319257946\n"
          ]
        }
      ]
    },
    {
      "cell_type": "code",
      "source": [
        "# Determining which group(s) differ from the other\n",
        "\n",
        "all_data = group_dis_r5 + group_dis_r10 + group_dis_r15 + group_dis_r50 + group_dis_r0\n",
        "\n",
        "# Create labels for each group\n",
        "labels = (['5% on App'] * len(group_dis_r5) +\n",
        "          ['10%'] * len(group_dis_r10) +\n",
        "          ['15% New User'] * len(group_dis_r15) +\n",
        "          ['50 off Promo'] * len(group_dis_r50) +\n",
        "          ['No Discount'] * len(group_dis_r0))\n",
        "\n",
        "# Perform Tukey's HSD test\n",
        "tukey_results = pairwise_tukeyhsd(all_data, labels)\n",
        "\n",
        "# Print the results\n",
        "print(tukey_results)\n",
        "\n",
        "\n",
        "# We find that our '15% New User' discount has an influence on restaurants' revenues"
      ],
      "metadata": {
        "colab": {
          "base_uri": "https://localhost:8080/"
        },
        "id": "40hs-gfc9fFB",
        "outputId": "327cb164-ae1c-4a27-f51f-30ebe2741c4a"
      },
      "execution_count": null,
      "outputs": [
        {
          "output_type": "stream",
          "name": "stdout",
          "text": [
            "        Multiple Comparison of Means - Tukey HSD, FWER=0.05        \n",
            "===================================================================\n",
            "   group1       group2    meandiff p-adj    lower    upper   reject\n",
            "-------------------------------------------------------------------\n",
            "         10% 15% New User -91.6869 0.3333 -225.5489  42.1751  False\n",
            "         10%    5% on App  60.7225 0.7438  -76.0732 197.5182  False\n",
            "         10% 50 off Promo  79.7463 0.4755  -53.5746 213.0672  False\n",
            "         10%  No Discount  83.6879 0.4488   -52.693 220.0688  False\n",
            "15% New User    5% on App 152.4094 0.0283   10.3946 294.4242   True\n",
            "15% New User 50 off Promo 171.4332 0.0068   32.7624  310.104   True\n",
            "15% New User  No Discount 175.3748 0.0066   33.7595 316.9901   True\n",
            "   5% on App 50 off Promo  19.0238 0.9961  -122.481 160.5287  False\n",
            "   5% on App  No Discount  22.9654 0.9926 -121.4262  167.357  False\n",
            "50 off Promo  No Discount   3.9416    1.0 -137.1623 145.0455  False\n",
            "-------------------------------------------------------------------\n"
          ]
        }
      ]
    },
    {
      "cell_type": "code",
      "source": [
        "h1_arpu = df.groupby('Discounts and Offers').agg({'Revenue' : 'sum', 'Order ID' : 'count'}).reset_index()\n",
        "h1_arpu['ratio_arpu'] = h1_arpu['Revenue'] / h1_arpu['Order ID']\n",
        "h1_arpu\n",
        "\n",
        "# Through our ratio we see that the '15% New User' discount has a negative influence on restaurants' revenues\n",
        "# Thus one should consider to rework this offer or to replace it"
      ],
      "metadata": {
        "colab": {
          "base_uri": "https://localhost:8080/",
          "height": 206
        },
        "id": "R9dC3Ec9uRZM",
        "outputId": "c7f829af-376d-4c23-bec2-053137e9d078"
      },
      "execution_count": null,
      "outputs": [
        {
          "output_type": "execute_result",
          "data": {
            "text/plain": [
              "  Discounts and Offers   Revenue  Order ID  ratio_arpu\n",
              "0                  10%  201388.5       233  864.328326\n",
              "1         15% New User  152983.0       198  772.641414\n",
              "2            5% on App  169284.3       183  925.050820\n",
              "3         50 off Promo  189759.0       201  944.074627\n",
              "4          No Discount  175383.0       185  948.016216"
            ],
            "text/html": [
              "\n",
              "  <div id=\"df-2bfbe21d-8bdf-4d7c-9e93-b3a3994ee31c\" class=\"colab-df-container\">\n",
              "    <div>\n",
              "<style scoped>\n",
              "    .dataframe tbody tr th:only-of-type {\n",
              "        vertical-align: middle;\n",
              "    }\n",
              "\n",
              "    .dataframe tbody tr th {\n",
              "        vertical-align: top;\n",
              "    }\n",
              "\n",
              "    .dataframe thead th {\n",
              "        text-align: right;\n",
              "    }\n",
              "</style>\n",
              "<table border=\"1\" class=\"dataframe\">\n",
              "  <thead>\n",
              "    <tr style=\"text-align: right;\">\n",
              "      <th></th>\n",
              "      <th>Discounts and Offers</th>\n",
              "      <th>Revenue</th>\n",
              "      <th>Order ID</th>\n",
              "      <th>ratio_arpu</th>\n",
              "    </tr>\n",
              "  </thead>\n",
              "  <tbody>\n",
              "    <tr>\n",
              "      <th>0</th>\n",
              "      <td>10%</td>\n",
              "      <td>201388.5</td>\n",
              "      <td>233</td>\n",
              "      <td>864.328326</td>\n",
              "    </tr>\n",
              "    <tr>\n",
              "      <th>1</th>\n",
              "      <td>15% New User</td>\n",
              "      <td>152983.0</td>\n",
              "      <td>198</td>\n",
              "      <td>772.641414</td>\n",
              "    </tr>\n",
              "    <tr>\n",
              "      <th>2</th>\n",
              "      <td>5% on App</td>\n",
              "      <td>169284.3</td>\n",
              "      <td>183</td>\n",
              "      <td>925.050820</td>\n",
              "    </tr>\n",
              "    <tr>\n",
              "      <th>3</th>\n",
              "      <td>50 off Promo</td>\n",
              "      <td>189759.0</td>\n",
              "      <td>201</td>\n",
              "      <td>944.074627</td>\n",
              "    </tr>\n",
              "    <tr>\n",
              "      <th>4</th>\n",
              "      <td>No Discount</td>\n",
              "      <td>175383.0</td>\n",
              "      <td>185</td>\n",
              "      <td>948.016216</td>\n",
              "    </tr>\n",
              "  </tbody>\n",
              "</table>\n",
              "</div>\n",
              "    <div class=\"colab-df-buttons\">\n",
              "\n",
              "  <div class=\"colab-df-container\">\n",
              "    <button class=\"colab-df-convert\" onclick=\"convertToInteractive('df-2bfbe21d-8bdf-4d7c-9e93-b3a3994ee31c')\"\n",
              "            title=\"Convert this dataframe to an interactive table.\"\n",
              "            style=\"display:none;\">\n",
              "\n",
              "  <svg xmlns=\"http://www.w3.org/2000/svg\" height=\"24px\" viewBox=\"0 -960 960 960\">\n",
              "    <path d=\"M120-120v-720h720v720H120Zm60-500h600v-160H180v160Zm220 220h160v-160H400v160Zm0 220h160v-160H400v160ZM180-400h160v-160H180v160Zm440 0h160v-160H620v160ZM180-180h160v-160H180v160Zm440 0h160v-160H620v160Z\"/>\n",
              "  </svg>\n",
              "    </button>\n",
              "\n",
              "  <style>\n",
              "    .colab-df-container {\n",
              "      display:flex;\n",
              "      gap: 12px;\n",
              "    }\n",
              "\n",
              "    .colab-df-convert {\n",
              "      background-color: #E8F0FE;\n",
              "      border: none;\n",
              "      border-radius: 50%;\n",
              "      cursor: pointer;\n",
              "      display: none;\n",
              "      fill: #1967D2;\n",
              "      height: 32px;\n",
              "      padding: 0 0 0 0;\n",
              "      width: 32px;\n",
              "    }\n",
              "\n",
              "    .colab-df-convert:hover {\n",
              "      background-color: #E2EBFA;\n",
              "      box-shadow: 0px 1px 2px rgba(60, 64, 67, 0.3), 0px 1px 3px 1px rgba(60, 64, 67, 0.15);\n",
              "      fill: #174EA6;\n",
              "    }\n",
              "\n",
              "    .colab-df-buttons div {\n",
              "      margin-bottom: 4px;\n",
              "    }\n",
              "\n",
              "    [theme=dark] .colab-df-convert {\n",
              "      background-color: #3B4455;\n",
              "      fill: #D2E3FC;\n",
              "    }\n",
              "\n",
              "    [theme=dark] .colab-df-convert:hover {\n",
              "      background-color: #434B5C;\n",
              "      box-shadow: 0px 1px 3px 1px rgba(0, 0, 0, 0.15);\n",
              "      filter: drop-shadow(0px 1px 2px rgba(0, 0, 0, 0.3));\n",
              "      fill: #FFFFFF;\n",
              "    }\n",
              "  </style>\n",
              "\n",
              "    <script>\n",
              "      const buttonEl =\n",
              "        document.querySelector('#df-2bfbe21d-8bdf-4d7c-9e93-b3a3994ee31c button.colab-df-convert');\n",
              "      buttonEl.style.display =\n",
              "        google.colab.kernel.accessAllowed ? 'block' : 'none';\n",
              "\n",
              "      async function convertToInteractive(key) {\n",
              "        const element = document.querySelector('#df-2bfbe21d-8bdf-4d7c-9e93-b3a3994ee31c');\n",
              "        const dataTable =\n",
              "          await google.colab.kernel.invokeFunction('convertToInteractive',\n",
              "                                                    [key], {});\n",
              "        if (!dataTable) return;\n",
              "\n",
              "        const docLinkHtml = 'Like what you see? Visit the ' +\n",
              "          '<a target=\"_blank\" href=https://colab.research.google.com/notebooks/data_table.ipynb>data table notebook</a>'\n",
              "          + ' to learn more about interactive tables.';\n",
              "        element.innerHTML = '';\n",
              "        dataTable['output_type'] = 'display_data';\n",
              "        await google.colab.output.renderOutput(dataTable, element);\n",
              "        const docLink = document.createElement('div');\n",
              "        docLink.innerHTML = docLinkHtml;\n",
              "        element.appendChild(docLink);\n",
              "      }\n",
              "    </script>\n",
              "  </div>\n",
              "\n",
              "\n",
              "<div id=\"df-fdf616d7-5bf9-435b-bc31-4fa6ed812f7b\">\n",
              "  <button class=\"colab-df-quickchart\" onclick=\"quickchart('df-fdf616d7-5bf9-435b-bc31-4fa6ed812f7b')\"\n",
              "            title=\"Suggest charts\"\n",
              "            style=\"display:none;\">\n",
              "\n",
              "<svg xmlns=\"http://www.w3.org/2000/svg\" height=\"24px\"viewBox=\"0 0 24 24\"\n",
              "     width=\"24px\">\n",
              "    <g>\n",
              "        <path d=\"M19 3H5c-1.1 0-2 .9-2 2v14c0 1.1.9 2 2 2h14c1.1 0 2-.9 2-2V5c0-1.1-.9-2-2-2zM9 17H7v-7h2v7zm4 0h-2V7h2v10zm4 0h-2v-4h2v4z\"/>\n",
              "    </g>\n",
              "</svg>\n",
              "  </button>\n",
              "\n",
              "<style>\n",
              "  .colab-df-quickchart {\n",
              "      --bg-color: #E8F0FE;\n",
              "      --fill-color: #1967D2;\n",
              "      --hover-bg-color: #E2EBFA;\n",
              "      --hover-fill-color: #174EA6;\n",
              "      --disabled-fill-color: #AAA;\n",
              "      --disabled-bg-color: #DDD;\n",
              "  }\n",
              "\n",
              "  [theme=dark] .colab-df-quickchart {\n",
              "      --bg-color: #3B4455;\n",
              "      --fill-color: #D2E3FC;\n",
              "      --hover-bg-color: #434B5C;\n",
              "      --hover-fill-color: #FFFFFF;\n",
              "      --disabled-bg-color: #3B4455;\n",
              "      --disabled-fill-color: #666;\n",
              "  }\n",
              "\n",
              "  .colab-df-quickchart {\n",
              "    background-color: var(--bg-color);\n",
              "    border: none;\n",
              "    border-radius: 50%;\n",
              "    cursor: pointer;\n",
              "    display: none;\n",
              "    fill: var(--fill-color);\n",
              "    height: 32px;\n",
              "    padding: 0;\n",
              "    width: 32px;\n",
              "  }\n",
              "\n",
              "  .colab-df-quickchart:hover {\n",
              "    background-color: var(--hover-bg-color);\n",
              "    box-shadow: 0 1px 2px rgba(60, 64, 67, 0.3), 0 1px 3px 1px rgba(60, 64, 67, 0.15);\n",
              "    fill: var(--button-hover-fill-color);\n",
              "  }\n",
              "\n",
              "  .colab-df-quickchart-complete:disabled,\n",
              "  .colab-df-quickchart-complete:disabled:hover {\n",
              "    background-color: var(--disabled-bg-color);\n",
              "    fill: var(--disabled-fill-color);\n",
              "    box-shadow: none;\n",
              "  }\n",
              "\n",
              "  .colab-df-spinner {\n",
              "    border: 2px solid var(--fill-color);\n",
              "    border-color: transparent;\n",
              "    border-bottom-color: var(--fill-color);\n",
              "    animation:\n",
              "      spin 1s steps(1) infinite;\n",
              "  }\n",
              "\n",
              "  @keyframes spin {\n",
              "    0% {\n",
              "      border-color: transparent;\n",
              "      border-bottom-color: var(--fill-color);\n",
              "      border-left-color: var(--fill-color);\n",
              "    }\n",
              "    20% {\n",
              "      border-color: transparent;\n",
              "      border-left-color: var(--fill-color);\n",
              "      border-top-color: var(--fill-color);\n",
              "    }\n",
              "    30% {\n",
              "      border-color: transparent;\n",
              "      border-left-color: var(--fill-color);\n",
              "      border-top-color: var(--fill-color);\n",
              "      border-right-color: var(--fill-color);\n",
              "    }\n",
              "    40% {\n",
              "      border-color: transparent;\n",
              "      border-right-color: var(--fill-color);\n",
              "      border-top-color: var(--fill-color);\n",
              "    }\n",
              "    60% {\n",
              "      border-color: transparent;\n",
              "      border-right-color: var(--fill-color);\n",
              "    }\n",
              "    80% {\n",
              "      border-color: transparent;\n",
              "      border-right-color: var(--fill-color);\n",
              "      border-bottom-color: var(--fill-color);\n",
              "    }\n",
              "    90% {\n",
              "      border-color: transparent;\n",
              "      border-bottom-color: var(--fill-color);\n",
              "    }\n",
              "  }\n",
              "</style>\n",
              "\n",
              "  <script>\n",
              "    async function quickchart(key) {\n",
              "      const quickchartButtonEl =\n",
              "        document.querySelector('#' + key + ' button');\n",
              "      quickchartButtonEl.disabled = true;  // To prevent multiple clicks.\n",
              "      quickchartButtonEl.classList.add('colab-df-spinner');\n",
              "      try {\n",
              "        const charts = await google.colab.kernel.invokeFunction(\n",
              "            'suggestCharts', [key], {});\n",
              "      } catch (error) {\n",
              "        console.error('Error during call to suggestCharts:', error);\n",
              "      }\n",
              "      quickchartButtonEl.classList.remove('colab-df-spinner');\n",
              "      quickchartButtonEl.classList.add('colab-df-quickchart-complete');\n",
              "    }\n",
              "    (() => {\n",
              "      let quickchartButtonEl =\n",
              "        document.querySelector('#df-fdf616d7-5bf9-435b-bc31-4fa6ed812f7b button');\n",
              "      quickchartButtonEl.style.display =\n",
              "        google.colab.kernel.accessAllowed ? 'block' : 'none';\n",
              "    })();\n",
              "  </script>\n",
              "</div>\n",
              "\n",
              "  <div id=\"id_e6fda87a-6d2c-4b0c-8d4a-c7bf033d6666\">\n",
              "    <style>\n",
              "      .colab-df-generate {\n",
              "        background-color: #E8F0FE;\n",
              "        border: none;\n",
              "        border-radius: 50%;\n",
              "        cursor: pointer;\n",
              "        display: none;\n",
              "        fill: #1967D2;\n",
              "        height: 32px;\n",
              "        padding: 0 0 0 0;\n",
              "        width: 32px;\n",
              "      }\n",
              "\n",
              "      .colab-df-generate:hover {\n",
              "        background-color: #E2EBFA;\n",
              "        box-shadow: 0px 1px 2px rgba(60, 64, 67, 0.3), 0px 1px 3px 1px rgba(60, 64, 67, 0.15);\n",
              "        fill: #174EA6;\n",
              "      }\n",
              "\n",
              "      [theme=dark] .colab-df-generate {\n",
              "        background-color: #3B4455;\n",
              "        fill: #D2E3FC;\n",
              "      }\n",
              "\n",
              "      [theme=dark] .colab-df-generate:hover {\n",
              "        background-color: #434B5C;\n",
              "        box-shadow: 0px 1px 3px 1px rgba(0, 0, 0, 0.15);\n",
              "        filter: drop-shadow(0px 1px 2px rgba(0, 0, 0, 0.3));\n",
              "        fill: #FFFFFF;\n",
              "      }\n",
              "    </style>\n",
              "    <button class=\"colab-df-generate\" onclick=\"generateWithVariable('h1_arpu')\"\n",
              "            title=\"Generate code using this dataframe.\"\n",
              "            style=\"display:none;\">\n",
              "\n",
              "  <svg xmlns=\"http://www.w3.org/2000/svg\" height=\"24px\"viewBox=\"0 0 24 24\"\n",
              "       width=\"24px\">\n",
              "    <path d=\"M7,19H8.4L18.45,9,17,7.55,7,17.6ZM5,21V16.75L18.45,3.32a2,2,0,0,1,2.83,0l1.4,1.43a1.91,1.91,0,0,1,.58,1.4,1.91,1.91,0,0,1-.58,1.4L9.25,21ZM18.45,9,17,7.55Zm-12,3A5.31,5.31,0,0,0,4.9,8.1,5.31,5.31,0,0,0,1,6.5,5.31,5.31,0,0,0,4.9,4.9,5.31,5.31,0,0,0,6.5,1,5.31,5.31,0,0,0,8.1,4.9,5.31,5.31,0,0,0,12,6.5,5.46,5.46,0,0,0,6.5,12Z\"/>\n",
              "  </svg>\n",
              "    </button>\n",
              "    <script>\n",
              "      (() => {\n",
              "      const buttonEl =\n",
              "        document.querySelector('#id_e6fda87a-6d2c-4b0c-8d4a-c7bf033d6666 button.colab-df-generate');\n",
              "      buttonEl.style.display =\n",
              "        google.colab.kernel.accessAllowed ? 'block' : 'none';\n",
              "\n",
              "      buttonEl.onclick = () => {\n",
              "        google.colab.notebook.generateWithVariable('h1_arpu');\n",
              "      }\n",
              "      })();\n",
              "    </script>\n",
              "  </div>\n",
              "\n",
              "    </div>\n",
              "  </div>\n"
            ],
            "application/vnd.google.colaboratory.intrinsic+json": {
              "type": "dataframe",
              "variable_name": "h1_arpu",
              "summary": "{\n  \"name\": \"h1_arpu\",\n  \"rows\": 5,\n  \"fields\": [\n    {\n      \"column\": \"Discounts and Offers\",\n      \"properties\": {\n        \"dtype\": \"string\",\n        \"num_unique_values\": 5,\n        \"samples\": [\n          \"15% New User\",\n          \"No Discount\",\n          \"5% on App\"\n        ],\n        \"semantic_type\": \"\",\n        \"description\": \"\"\n      }\n    },\n    {\n      \"column\": \"Revenue\",\n      \"properties\": {\n        \"dtype\": \"number\",\n        \"std\": 18665.940645812632,\n        \"min\": 152983.0,\n        \"max\": 201388.5,\n        \"num_unique_values\": 5,\n        \"samples\": [\n          152983.0,\n          175383.0,\n          169284.3\n        ],\n        \"semantic_type\": \"\",\n        \"description\": \"\"\n      }\n    },\n    {\n      \"column\": \"Order ID\",\n      \"properties\": {\n        \"dtype\": \"number\",\n        \"std\": 20,\n        \"min\": 183,\n        \"max\": 233,\n        \"num_unique_values\": 5,\n        \"samples\": [\n          198,\n          185,\n          183\n        ],\n        \"semantic_type\": \"\",\n        \"description\": \"\"\n      }\n    },\n    {\n      \"column\": \"ratio_arpu\",\n      \"properties\": {\n        \"dtype\": \"number\",\n        \"std\": 74.07293425871018,\n        \"min\": 772.6414141414141,\n        \"max\": 948.0162162162162,\n        \"num_unique_values\": 5,\n        \"samples\": [\n          772.6414141414141,\n          948.0162162162162,\n          925.0508196721311\n        ],\n        \"semantic_type\": \"\",\n        \"description\": \"\"\n      }\n    }\n  ]\n}"
            }
          },
          "metadata": {},
          "execution_count": 46
        }
      ]
    },
    {
      "cell_type": "code",
      "source": [
        "# After observing the result of our hypothesis test on the influence of discounts on restaurants' revenues,\n",
        "# we decided to calculate the expected revenue for each of the available discounts.\n",
        "# To do so, from the previously 'no discount' ratio_arpu we calculated, we calculated the expected ratio_arpu after the discounts.\n",
        "# We then compared the expected ratio_arpu to the real ratio_arpu:\n",
        "\n",
        "\n",
        "print(f'Expected revenue for 10%: {948 * (1 - 0.10)}')\n",
        "print(f'Expected revenue for 15%: {948 * (1 - 0.15)}')\n",
        "print(f'Expected revenue for 5%: {948 * (1 - 0.05)}')\n",
        "\n",
        "# We observe that all discounts perform below the expected threshold."
      ],
      "metadata": {
        "colab": {
          "base_uri": "https://localhost:8080/"
        },
        "id": "LFYtYFLWzq54",
        "outputId": "cd9d4f63-77fd-4259-9736-d484dc9f06ac"
      },
      "execution_count": 1,
      "outputs": [
        {
          "output_type": "stream",
          "name": "stdout",
          "text": [
            "Expected revenue for 10%: 853.2\n",
            "Expected revenue for 15%: 805.8\n",
            "Expected revenue for 5%: 900.5999999999999\n"
          ]
        }
      ]
    },
    {
      "cell_type": "code",
      "source": [
        "# Despite poor capital performance of the discounts, we check if they\n",
        "# perform well in term of customer retention.\n",
        "\n",
        "h1_cust = df.loc[df['Discounts and Offers']=='15% New User']\n",
        "print('15% mean order:')\n",
        "print(h1_cust.groupby('Customer ID')['Order ID'].count().mean())\n",
        "\n",
        "h2_cust = df.loc[df['Discounts and Offers']=='5% on App']\n",
        "print('5% mean order:')\n",
        "print(h2_cust.groupby('Customer ID')['Order ID'].count().mean())\n",
        "\n",
        "h3_cust = df.loc[df['Discounts and Offers']=='10%']\n",
        "print('10% mean order:')\n",
        "print(h3_cust.groupby('Customer ID')['Order ID'].count().mean())\n",
        "\n",
        "h4_cust = df.loc[df['Discounts and Offers']=='50 off Promo']\n",
        "print('50 off Promo mean order:')\n",
        "print(h4_cust.groupby('Customer ID')['Order ID'].count().mean())\n",
        "\n",
        "h5_cust = df.loc[df['Discounts and Offers']=='No Discount']\n",
        "print('No Discount mean order:')\n",
        "print(h5_cust.groupby('Customer ID')['Order ID'].count().mean())\n",
        "# It shows that they don't.\n",
        "\n",
        "# Ultimately all our offers do not help with customer retention - no discount is top2 in this category by only a narrow margin with 10%'s top1.\n",
        "# Thus this strategy should be questionned.\n",
        "# More urgently the 15% should be addressed, as it provokes our biggest loss on top on performing poorly with retention.\n",
        "# However, these observations could be mitigated, given the dataset only cover one month of activity.\n"
      ],
      "metadata": {
        "colab": {
          "base_uri": "https://localhost:8080/"
        },
        "id": "Y-jZVmpiyCKi",
        "outputId": "8346ea46-cfdb-4b2d-8a64-4f1e278c4005"
      },
      "execution_count": null,
      "outputs": [
        {
          "output_type": "stream",
          "name": "stdout",
          "text": [
            "15% mean order:\n",
            "1.0153846153846153\n",
            "5% mean order:\n",
            "1.011049723756906\n",
            "10% mean order:\n",
            "1.017467248908297\n",
            "50 off Promo mean order:\n",
            "1.0100502512562815\n",
            "No Discount mean order:\n",
            "1.0164835164835164\n"
          ]
        }
      ]
    },
    {
      "cell_type": "code",
      "source": [
        "# h0: There is no difference between the order value per discount\n",
        "# h1: There at least one difference between the order value per discount\n",
        "\n",
        "# Independent variable is 'Discounts and Offers'\n",
        "# Dependent variable is the 'Comission Fee'\n",
        "\n",
        "group_dis_ov5 = df.loc[df['Discounts and Offers']=='5% on App', 'Order Value'].to_list()\n",
        "group_dis_ov10 = df.loc[df['Discounts and Offers']=='10%', 'Order Value'].to_list()\n",
        "group_dis_ov15 = df.loc[df['Discounts and Offers']=='15% New User', 'Order Value'].to_list()\n",
        "group_dis_ov50 = df.loc[df['Discounts and Offers']=='50 off Promo', 'Order Value'].to_list()\n",
        "group_dis_ov0 = df.loc[df['Discounts and Offers']=='No Discount' , 'Order Value'].to_list()"
      ],
      "metadata": {
        "id": "nPbwQZkFV_vL"
      },
      "execution_count": null,
      "outputs": []
    },
    {
      "cell_type": "code",
      "source": [
        "# Results show that we cannot reject our h0 hypothesis\n",
        "\n",
        "f_stat_dis_ov, p_value_dis_ov = stats.f_oneway(group_dis_ov5, group_dis_ov10, group_dis_ov15, group_dis_ov50, group_dis_ov0)\n",
        "print(f_stat_dis_ov)\n",
        "print(p_value_dis_ov)"
      ],
      "metadata": {
        "colab": {
          "base_uri": "https://localhost:8080/"
        },
        "id": "cSsJmbJxWXNt",
        "outputId": "05c5ab3e-49e7-43aa-ce70-bf240aa37179"
      },
      "execution_count": null,
      "outputs": [
        {
          "output_type": "stream",
          "name": "stdout",
          "text": [
            "0.6917969618302091\n",
            "0.5976946468495901\n"
          ]
        }
      ]
    }
  ]
}